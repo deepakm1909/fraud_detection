{
 "cells": [
  {
   "cell_type": "markdown",
   "metadata": {},
   "source": [
    "### Problem Statement"
   ]
  },
  {
   "cell_type": "markdown",
   "metadata": {},
   "source": [
    "Fraud detection with machine learning method.\n",
    "Fraud discovery is a challenging problem. The fact is that fraudulent transactions are rare; they represent a tiny fraction of a\n",
    "ctivity within an organization. The challenge is that a small percentage of business can quickly turn into significant dollar lo\n",
    "sses without the right tools and systems in place. As popular fraud schemes fail to pay off, fraudsters have learned to change\n",
    "their tactics. The great news is that with progress in machine learning, models can learn, adjust, and reveal emerging patterns\n",
    "for stopping fraud."
   ]
  },
  {
   "cell_type": "code",
   "execution_count": 1,
   "metadata": {},
   "outputs": [
    {
     "name": "stderr",
     "output_type": "stream",
     "text": [
      "Using TensorFlow backend.\n"
     ]
    }
   ],
   "source": [
    "import os\n",
    "import pandas as pd\n",
    "import numpy as np\n",
    "import sklearn\n",
    "\n",
    "from sklearn import preprocessing\n",
    "from sklearn.impute import SimpleImputer\n",
    "from sklearn.compose import ColumnTransformer\n",
    "\n",
    "from sklearn.preprocessing import StandardScaler\n",
    "from sklearn.preprocessing import OneHotEncoder\n",
    "from sklearn.model_selection import train_test_split\n",
    "from sklearn.pipeline import Pipeline\n",
    "from sklearn.model_selection import GridSearchCV, RandomizedSearchCV\n",
    "from sklearn.model_selection import cross_val_score\n",
    "from sklearn.ensemble import RandomForestClassifier\n",
    "from sklearn.neighbors import KNeighborsClassifier\n",
    "\n",
    "from sklearn.svm import SVC\n",
    "from sklearn.linear_model import LogisticRegression\n",
    "from sklearn.metrics import confusion_matrix\n",
    "from sklearn import metrics\n",
    "\n",
    "import matplotlib.pyplot as plt\n",
    "import seaborn as sns\n",
    "from imblearn.over_sampling import SMOTE\n",
    "from sklearn.metrics import accuracy_score, recall_score, precision_score\n",
    "\n",
    "import warnings\n",
    "warnings.filterwarnings('ignore')\n",
    "\n",
    "import plotly\n",
    "import plotly.offline as pyoff\n",
    "import plotly.figure_factory as ff\n",
    "from plotly.offline import init_notebook_mode, iplot, plot\n",
    "import plotly.graph_objs as go\n",
    "\n",
    "from numpy import asarray\n",
    "from numpy import savetxt\n",
    "from numpy import loadtxt"
   ]
  },
  {
   "cell_type": "code",
   "execution_count": 2,
   "metadata": {},
   "outputs": [
    {
     "name": "stdout",
     "output_type": "stream",
     "text": [
      "Tensorflow version:  2.1.0\n"
     ]
    }
   ],
   "source": [
    "from __future__ import print_function\n",
    "\n",
    "import numpy as np\n",
    "import pandas as pd\n",
    "import time\n",
    "import os\n",
    "\n",
    "import matplotlib.pyplot as plt\n",
    "%matplotlib inline\n",
    "plt.rcParams['figure.figsize'] = (10, 10) \n",
    "\n",
    "import tensorflow as tf\n",
    "print('Tensorflow version: ', tf.__version__)"
   ]
  },
  {
   "cell_type": "markdown",
   "metadata": {},
   "source": [
    "### Reading the dataset"
   ]
  },
  {
   "cell_type": "code",
   "execution_count": 3,
   "metadata": {},
   "outputs": [],
   "source": [
    "df = pd.read_csv(\"fraud.csv\")"
   ]
  },
  {
   "cell_type": "code",
   "execution_count": 4,
   "metadata": {},
   "outputs": [
    {
     "data": {
      "text/html": [
       "<div>\n",
       "<style scoped>\n",
       "    .dataframe tbody tr th:only-of-type {\n",
       "        vertical-align: middle;\n",
       "    }\n",
       "\n",
       "    .dataframe tbody tr th {\n",
       "        vertical-align: top;\n",
       "    }\n",
       "\n",
       "    .dataframe thead th {\n",
       "        text-align: right;\n",
       "    }\n",
       "</style>\n",
       "<table border=\"1\" class=\"dataframe\">\n",
       "  <thead>\n",
       "    <tr style=\"text-align: right;\">\n",
       "      <th></th>\n",
       "      <th>id</th>\n",
       "      <th>normalized_total_spent_last_24_hours</th>\n",
       "      <th>normalized_merchant_fraud_risk</th>\n",
       "      <th>normalized_time_since_last_transaction</th>\n",
       "      <th>normalized_average_transaction</th>\n",
       "      <th>normalized_days_till_expiration</th>\n",
       "      <th>normalized_transaction_time</th>\n",
       "      <th>normalized_change_in_merchant_sales</th>\n",
       "      <th>Amount</th>\n",
       "      <th>Class</th>\n",
       "    </tr>\n",
       "  </thead>\n",
       "  <tbody>\n",
       "    <tr>\n",
       "      <th>0</th>\n",
       "      <td>0</td>\n",
       "      <td>-1.034134</td>\n",
       "      <td>-0.513680</td>\n",
       "      <td>-0.508605</td>\n",
       "      <td>-2.196179</td>\n",
       "      <td>-0.108863</td>\n",
       "      <td>-1.061009</td>\n",
       "      <td>0.285154</td>\n",
       "      <td>135.75</td>\n",
       "      <td>0</td>\n",
       "    </tr>\n",
       "    <tr>\n",
       "      <th>1</th>\n",
       "      <td>1</td>\n",
       "      <td>-1.265760</td>\n",
       "      <td>0.073279</td>\n",
       "      <td>1.311444</td>\n",
       "      <td>-0.734941</td>\n",
       "      <td>1.450279</td>\n",
       "      <td>-0.801969</td>\n",
       "      <td>0.860978</td>\n",
       "      <td>1.98</td>\n",
       "      <td>0</td>\n",
       "    </tr>\n",
       "    <tr>\n",
       "      <th>2</th>\n",
       "      <td>2</td>\n",
       "      <td>2.240560</td>\n",
       "      <td>-1.509744</td>\n",
       "      <td>-0.689632</td>\n",
       "      <td>-1.622659</td>\n",
       "      <td>-1.434514</td>\n",
       "      <td>-0.419167</td>\n",
       "      <td>-1.360193</td>\n",
       "      <td>24.00</td>\n",
       "      <td>0</td>\n",
       "    </tr>\n",
       "    <tr>\n",
       "      <th>3</th>\n",
       "      <td>3</td>\n",
       "      <td>-22.322051</td>\n",
       "      <td>-22.208926</td>\n",
       "      <td>-8.997418</td>\n",
       "      <td>3.396521</td>\n",
       "      <td>1.155982</td>\n",
       "      <td>-0.716039</td>\n",
       "      <td>3.832328</td>\n",
       "      <td>212.00</td>\n",
       "      <td>0</td>\n",
       "    </tr>\n",
       "    <tr>\n",
       "      <th>4</th>\n",
       "      <td>4</td>\n",
       "      <td>-0.522513</td>\n",
       "      <td>0.819195</td>\n",
       "      <td>1.777106</td>\n",
       "      <td>1.013636</td>\n",
       "      <td>0.306740</td>\n",
       "      <td>-0.064264</td>\n",
       "      <td>0.321084</td>\n",
       "      <td>19.99</td>\n",
       "      <td>0</td>\n",
       "    </tr>\n",
       "  </tbody>\n",
       "</table>\n",
       "</div>"
      ],
      "text/plain": [
       "   id  normalized_total_spent_last_24_hours  normalized_merchant_fraud_risk  \\\n",
       "0   0                             -1.034134                       -0.513680   \n",
       "1   1                             -1.265760                        0.073279   \n",
       "2   2                              2.240560                       -1.509744   \n",
       "3   3                            -22.322051                      -22.208926   \n",
       "4   4                             -0.522513                        0.819195   \n",
       "\n",
       "   normalized_time_since_last_transaction  normalized_average_transaction  \\\n",
       "0                               -0.508605                       -2.196179   \n",
       "1                                1.311444                       -0.734941   \n",
       "2                               -0.689632                       -1.622659   \n",
       "3                               -8.997418                        3.396521   \n",
       "4                                1.777106                        1.013636   \n",
       "\n",
       "   normalized_days_till_expiration  normalized_transaction_time  \\\n",
       "0                        -0.108863                    -1.061009   \n",
       "1                         1.450279                    -0.801969   \n",
       "2                        -1.434514                    -0.419167   \n",
       "3                         1.155982                    -0.716039   \n",
       "4                         0.306740                    -0.064264   \n",
       "\n",
       "   normalized_change_in_merchant_sales  Amount  Class  \n",
       "0                             0.285154  135.75      0  \n",
       "1                             0.860978    1.98      0  \n",
       "2                            -1.360193   24.00      0  \n",
       "3                             3.832328  212.00      0  \n",
       "4                             0.321084   19.99      0  "
      ]
     },
     "execution_count": 4,
     "metadata": {},
     "output_type": "execute_result"
    }
   ],
   "source": [
    "df.head(5)"
   ]
  },
  {
   "cell_type": "code",
   "execution_count": 5,
   "metadata": {},
   "outputs": [
    {
     "data": {
      "text/html": [
       "<div>\n",
       "<style scoped>\n",
       "    .dataframe tbody tr th:only-of-type {\n",
       "        vertical-align: middle;\n",
       "    }\n",
       "\n",
       "    .dataframe tbody tr th {\n",
       "        vertical-align: top;\n",
       "    }\n",
       "\n",
       "    .dataframe thead th {\n",
       "        text-align: right;\n",
       "    }\n",
       "</style>\n",
       "<table border=\"1\" class=\"dataframe\">\n",
       "  <thead>\n",
       "    <tr style=\"text-align: right;\">\n",
       "      <th></th>\n",
       "      <th>id</th>\n",
       "      <th>normalized_total_spent_last_24_hours</th>\n",
       "      <th>normalized_merchant_fraud_risk</th>\n",
       "      <th>normalized_time_since_last_transaction</th>\n",
       "      <th>normalized_average_transaction</th>\n",
       "      <th>normalized_days_till_expiration</th>\n",
       "      <th>normalized_transaction_time</th>\n",
       "      <th>normalized_change_in_merchant_sales</th>\n",
       "      <th>Amount</th>\n",
       "      <th>Class</th>\n",
       "    </tr>\n",
       "  </thead>\n",
       "  <tbody>\n",
       "    <tr>\n",
       "      <th>9995</th>\n",
       "      <td>9995</td>\n",
       "      <td>-0.994395</td>\n",
       "      <td>1.788598</td>\n",
       "      <td>-1.405294</td>\n",
       "      <td>-0.918345</td>\n",
       "      <td>0.799028</td>\n",
       "      <td>-0.000736</td>\n",
       "      <td>0.393192</td>\n",
       "      <td>1.79</td>\n",
       "      <td>0</td>\n",
       "    </tr>\n",
       "    <tr>\n",
       "      <th>9996</th>\n",
       "      <td>9996</td>\n",
       "      <td>-1.823813</td>\n",
       "      <td>1.512515</td>\n",
       "      <td>2.374475</td>\n",
       "      <td>3.006943</td>\n",
       "      <td>-1.237844</td>\n",
       "      <td>0.959361</td>\n",
       "      <td>-0.646261</td>\n",
       "      <td>29.95</td>\n",
       "      <td>0</td>\n",
       "    </tr>\n",
       "    <tr>\n",
       "      <th>9997</th>\n",
       "      <td>9997</td>\n",
       "      <td>-1.162086</td>\n",
       "      <td>-1.330411</td>\n",
       "      <td>-1.583252</td>\n",
       "      <td>-1.885705</td>\n",
       "      <td>2.564665</td>\n",
       "      <td>-3.473247</td>\n",
       "      <td>0.881637</td>\n",
       "      <td>72.00</td>\n",
       "      <td>0</td>\n",
       "    </tr>\n",
       "    <tr>\n",
       "      <th>9998</th>\n",
       "      <td>9998</td>\n",
       "      <td>0.893032</td>\n",
       "      <td>-0.567744</td>\n",
       "      <td>1.226972</td>\n",
       "      <td>1.888959</td>\n",
       "      <td>-1.138383</td>\n",
       "      <td>0.386362</td>\n",
       "      <td>-0.554675</td>\n",
       "      <td>94.50</td>\n",
       "      <td>0</td>\n",
       "    </tr>\n",
       "    <tr>\n",
       "      <th>9999</th>\n",
       "      <td>9999</td>\n",
       "      <td>1.993109</td>\n",
       "      <td>-0.288264</td>\n",
       "      <td>-1.451488</td>\n",
       "      <td>0.105528</td>\n",
       "      <td>0.326851</td>\n",
       "      <td>-0.129957</td>\n",
       "      <td>-0.015008</td>\n",
       "      <td>32.51</td>\n",
       "      <td>0</td>\n",
       "    </tr>\n",
       "  </tbody>\n",
       "</table>\n",
       "</div>"
      ],
      "text/plain": [
       "        id  normalized_total_spent_last_24_hours  \\\n",
       "9995  9995                             -0.994395   \n",
       "9996  9996                             -1.823813   \n",
       "9997  9997                             -1.162086   \n",
       "9998  9998                              0.893032   \n",
       "9999  9999                              1.993109   \n",
       "\n",
       "      normalized_merchant_fraud_risk  normalized_time_since_last_transaction  \\\n",
       "9995                        1.788598                               -1.405294   \n",
       "9996                        1.512515                                2.374475   \n",
       "9997                       -1.330411                               -1.583252   \n",
       "9998                       -0.567744                                1.226972   \n",
       "9999                       -0.288264                               -1.451488   \n",
       "\n",
       "      normalized_average_transaction  normalized_days_till_expiration  \\\n",
       "9995                       -0.918345                         0.799028   \n",
       "9996                        3.006943                        -1.237844   \n",
       "9997                       -1.885705                         2.564665   \n",
       "9998                        1.888959                        -1.138383   \n",
       "9999                        0.105528                         0.326851   \n",
       "\n",
       "      normalized_transaction_time  normalized_change_in_merchant_sales  \\\n",
       "9995                    -0.000736                             0.393192   \n",
       "9996                     0.959361                            -0.646261   \n",
       "9997                    -3.473247                             0.881637   \n",
       "9998                     0.386362                            -0.554675   \n",
       "9999                    -0.129957                            -0.015008   \n",
       "\n",
       "      Amount  Class  \n",
       "9995    1.79      0  \n",
       "9996   29.95      0  \n",
       "9997   72.00      0  \n",
       "9998   94.50      0  \n",
       "9999   32.51      0  "
      ]
     },
     "execution_count": 5,
     "metadata": {},
     "output_type": "execute_result"
    }
   ],
   "source": [
    "df.tail(5)"
   ]
  },
  {
   "cell_type": "code",
   "execution_count": 6,
   "metadata": {},
   "outputs": [
    {
     "data": {
      "text/html": [
       "<div>\n",
       "<style scoped>\n",
       "    .dataframe tbody tr th:only-of-type {\n",
       "        vertical-align: middle;\n",
       "    }\n",
       "\n",
       "    .dataframe tbody tr th {\n",
       "        vertical-align: top;\n",
       "    }\n",
       "\n",
       "    .dataframe thead th {\n",
       "        text-align: right;\n",
       "    }\n",
       "</style>\n",
       "<table border=\"1\" class=\"dataframe\">\n",
       "  <thead>\n",
       "    <tr style=\"text-align: right;\">\n",
       "      <th></th>\n",
       "      <th>id</th>\n",
       "      <th>normalized_total_spent_last_24_hours</th>\n",
       "      <th>normalized_merchant_fraud_risk</th>\n",
       "      <th>normalized_time_since_last_transaction</th>\n",
       "      <th>normalized_average_transaction</th>\n",
       "      <th>normalized_days_till_expiration</th>\n",
       "      <th>normalized_transaction_time</th>\n",
       "      <th>normalized_change_in_merchant_sales</th>\n",
       "      <th>Amount</th>\n",
       "      <th>Class</th>\n",
       "    </tr>\n",
       "  </thead>\n",
       "  <tbody>\n",
       "    <tr>\n",
       "      <th>count</th>\n",
       "      <td>10000.00000</td>\n",
       "      <td>10000.000000</td>\n",
       "      <td>10000.000000</td>\n",
       "      <td>10000.000000</td>\n",
       "      <td>10000.000000</td>\n",
       "      <td>10000.000000</td>\n",
       "      <td>10000.000000</td>\n",
       "      <td>10000.000000</td>\n",
       "      <td>10000.000000</td>\n",
       "      <td>10000.000000</td>\n",
       "    </tr>\n",
       "    <tr>\n",
       "      <th>mean</th>\n",
       "      <td>4999.50000</td>\n",
       "      <td>0.020946</td>\n",
       "      <td>0.003546</td>\n",
       "      <td>-0.012862</td>\n",
       "      <td>-0.017475</td>\n",
       "      <td>-0.019550</td>\n",
       "      <td>-0.004823</td>\n",
       "      <td>-0.024230</td>\n",
       "      <td>85.310289</td>\n",
       "      <td>0.002000</td>\n",
       "    </tr>\n",
       "    <tr>\n",
       "      <th>std</th>\n",
       "      <td>2886.89568</td>\n",
       "      <td>1.941407</td>\n",
       "      <td>1.583412</td>\n",
       "      <td>1.522883</td>\n",
       "      <td>1.404262</td>\n",
       "      <td>1.312877</td>\n",
       "      <td>1.308996</td>\n",
       "      <td>1.165968</td>\n",
       "      <td>215.288621</td>\n",
       "      <td>0.044679</td>\n",
       "    </tr>\n",
       "    <tr>\n",
       "      <th>min</th>\n",
       "      <td>0.00000</td>\n",
       "      <td>-40.470142</td>\n",
       "      <td>-37.520432</td>\n",
       "      <td>-21.402917</td>\n",
       "      <td>-4.863246</td>\n",
       "      <td>-16.644109</td>\n",
       "      <td>-11.755878</td>\n",
       "      <td>-23.380508</td>\n",
       "      <td>0.000000</td>\n",
       "      <td>0.000000</td>\n",
       "    </tr>\n",
       "    <tr>\n",
       "      <th>25%</th>\n",
       "      <td>2499.75000</td>\n",
       "      <td>-0.908480</td>\n",
       "      <td>-0.598830</td>\n",
       "      <td>-0.900389</td>\n",
       "      <td>-0.853047</td>\n",
       "      <td>-0.708399</td>\n",
       "      <td>-0.760352</td>\n",
       "      <td>-0.574255</td>\n",
       "      <td>5.897500</td>\n",
       "      <td>0.000000</td>\n",
       "    </tr>\n",
       "    <tr>\n",
       "      <th>50%</th>\n",
       "      <td>4999.50000</td>\n",
       "      <td>0.040533</td>\n",
       "      <td>0.050037</td>\n",
       "      <td>0.168508</td>\n",
       "      <td>-0.028227</td>\n",
       "      <td>-0.065568</td>\n",
       "      <td>-0.276480</td>\n",
       "      <td>0.026643</td>\n",
       "      <td>22.895000</td>\n",
       "      <td>0.000000</td>\n",
       "    </tr>\n",
       "    <tr>\n",
       "      <th>75%</th>\n",
       "      <td>7499.25000</td>\n",
       "      <td>1.320048</td>\n",
       "      <td>0.794915</td>\n",
       "      <td>1.016116</td>\n",
       "      <td>0.709777</td>\n",
       "      <td>0.598068</td>\n",
       "      <td>0.392515</td>\n",
       "      <td>0.556091</td>\n",
       "      <td>77.597500</td>\n",
       "      <td>0.000000</td>\n",
       "    </tr>\n",
       "    <tr>\n",
       "      <th>max</th>\n",
       "      <td>9999.00000</td>\n",
       "      <td>2.385042</td>\n",
       "      <td>11.614801</td>\n",
       "      <td>3.920275</td>\n",
       "      <td>11.427809</td>\n",
       "      <td>18.254011</td>\n",
       "      <td>11.139726</td>\n",
       "      <td>17.512475</td>\n",
       "      <td>5356.420000</td>\n",
       "      <td>1.000000</td>\n",
       "    </tr>\n",
       "  </tbody>\n",
       "</table>\n",
       "</div>"
      ],
      "text/plain": [
       "                id  normalized_total_spent_last_24_hours  \\\n",
       "count  10000.00000                          10000.000000   \n",
       "mean    4999.50000                              0.020946   \n",
       "std     2886.89568                              1.941407   \n",
       "min        0.00000                            -40.470142   \n",
       "25%     2499.75000                             -0.908480   \n",
       "50%     4999.50000                              0.040533   \n",
       "75%     7499.25000                              1.320048   \n",
       "max     9999.00000                              2.385042   \n",
       "\n",
       "       normalized_merchant_fraud_risk  normalized_time_since_last_transaction  \\\n",
       "count                    10000.000000                            10000.000000   \n",
       "mean                         0.003546                               -0.012862   \n",
       "std                          1.583412                                1.522883   \n",
       "min                        -37.520432                              -21.402917   \n",
       "25%                         -0.598830                               -0.900389   \n",
       "50%                          0.050037                                0.168508   \n",
       "75%                          0.794915                                1.016116   \n",
       "max                         11.614801                                3.920275   \n",
       "\n",
       "       normalized_average_transaction  normalized_days_till_expiration  \\\n",
       "count                    10000.000000                     10000.000000   \n",
       "mean                        -0.017475                        -0.019550   \n",
       "std                          1.404262                         1.312877   \n",
       "min                         -4.863246                       -16.644109   \n",
       "25%                         -0.853047                        -0.708399   \n",
       "50%                         -0.028227                        -0.065568   \n",
       "75%                          0.709777                         0.598068   \n",
       "max                         11.427809                        18.254011   \n",
       "\n",
       "       normalized_transaction_time  normalized_change_in_merchant_sales  \\\n",
       "count                 10000.000000                         10000.000000   \n",
       "mean                     -0.004823                            -0.024230   \n",
       "std                       1.308996                             1.165968   \n",
       "min                     -11.755878                           -23.380508   \n",
       "25%                      -0.760352                            -0.574255   \n",
       "50%                      -0.276480                             0.026643   \n",
       "75%                       0.392515                             0.556091   \n",
       "max                      11.139726                            17.512475   \n",
       "\n",
       "             Amount         Class  \n",
       "count  10000.000000  10000.000000  \n",
       "mean      85.310289      0.002000  \n",
       "std      215.288621      0.044679  \n",
       "min        0.000000      0.000000  \n",
       "25%        5.897500      0.000000  \n",
       "50%       22.895000      0.000000  \n",
       "75%       77.597500      0.000000  \n",
       "max     5356.420000      1.000000  "
      ]
     },
     "execution_count": 6,
     "metadata": {},
     "output_type": "execute_result"
    }
   ],
   "source": [
    "df.describe()"
   ]
  },
  {
   "cell_type": "code",
   "execution_count": 7,
   "metadata": {},
   "outputs": [
    {
     "data": {
      "text/plain": [
       "(10000, 10)"
      ]
     },
     "execution_count": 7,
     "metadata": {},
     "output_type": "execute_result"
    }
   ],
   "source": [
    "df.shape"
   ]
  },
  {
   "cell_type": "code",
   "execution_count": 8,
   "metadata": {
    "scrolled": true
   },
   "outputs": [
    {
     "name": "stdout",
     "output_type": "stream",
     "text": [
      "id                                        0\n",
      "normalized_total_spent_last_24_hours      0\n",
      "normalized_merchant_fraud_risk            0\n",
      "normalized_time_since_last_transaction    0\n",
      "normalized_average_transaction            0\n",
      "normalized_days_till_expiration           0\n",
      "normalized_transaction_time               0\n",
      "normalized_change_in_merchant_sales       0\n",
      "Amount                                    0\n",
      "Class                                     0\n",
      "dtype: int64\n"
     ]
    }
   ],
   "source": [
    "print(df.isnull().sum(axis=0))  #checking for Missing or NA values"
   ]
  },
  {
   "cell_type": "code",
   "execution_count": 9,
   "metadata": {},
   "outputs": [],
   "source": [
    "#df.drop(\"id\", axis = 1, inplace= True)"
   ]
  },
  {
   "cell_type": "code",
   "execution_count": 10,
   "metadata": {
    "scrolled": false
   },
   "outputs": [
    {
     "data": {
      "image/png": "[encoded data removed]",
      "text/plain": [
       "<Figure size 720x720 with 4 Axes>"
      ]
     },
     "metadata": {
      "needs_background": "light"
     },
     "output_type": "display_data"
    }
   ],
   "source": [
    "corr_matrix = df.corr()\n",
    "colmap=sns.clustermap(corr_matrix, annot = True, fmt = \".2f\")\n",
    "plt.title(\"Correlation Between Features\")\n",
    "plt.show()\n"
   ]
  },
  {
   "cell_type": "code",
   "execution_count": 11,
   "metadata": {
    "scrolled": false
   },
   "outputs": [
    {
     "name": "stdout",
     "output_type": "stream",
     "text": [
      "0    9980\n",
      "1      20\n",
      "Name: Class, dtype: int64\n"
     ]
    },
    {
     "data": {
      "image/png": "[encoded data removed]",
      "text/plain": [
       "<Figure size 720x720 with 1 Axes>"
      ]
     },
     "metadata": {
      "needs_background": "light"
     },
     "output_type": "display_data"
    }
   ],
   "source": [
    "sns.countplot(df[\"Class\"]); # Target variable distribution\n",
    "print(df.Class.value_counts())"
   ]
  },
  {
   "cell_type": "code",
   "execution_count": 12,
   "metadata": {},
   "outputs": [],
   "source": [
    "#df['Class'] = df['Class'].astype('category')"
   ]
  },
  {
   "cell_type": "code",
   "execution_count": 13,
   "metadata": {
    "scrolled": false
   },
   "outputs": [
    {
     "name": "stdout",
     "output_type": "stream",
     "text": [
      "id                                          int64\n",
      "normalized_total_spent_last_24_hours      float64\n",
      "normalized_merchant_fraud_risk            float64\n",
      "normalized_time_since_last_transaction    float64\n",
      "normalized_average_transaction            float64\n",
      "normalized_days_till_expiration           float64\n",
      "normalized_transaction_time               float64\n",
      "normalized_change_in_merchant_sales       float64\n",
      "Amount                                    float64\n",
      "Class                                       int64\n",
      "dtype: object\n"
     ]
    }
   ],
   "source": [
    "print((df.dtypes))"
   ]
  },
  {
   "cell_type": "code",
   "execution_count": 14,
   "metadata": {},
   "outputs": [
    {
     "name": "stdout",
     "output_type": "stream",
     "text": [
      "(7500, 9)\n",
      "(2500, 9)\n",
      "(7500,)\n",
      "(2500,)\n"
     ]
    }
   ],
   "source": [
    "# Train and Test Split\n",
    "\n",
    "y = df[\"Class\"].values\n",
    "x_data=df.drop([\"Class\"],axis=1)\n",
    "x = (x_data-np.min(x_data))/(np.max(x_data)-np.min(x_data))\n",
    "from sklearn.model_selection import train_test_split\n",
    "x_train, x_test, y_train, y_test = train_test_split(x,y,test_size = 0.25,random_state=1)\n",
    "\n",
    "print(x_train.shape)\n",
    "print(x_test.shape)\n",
    "print(y_train.shape)\n",
    "print(y_test.shape)"
   ]
  },
  {
   "cell_type": "code",
   "execution_count": 15,
   "metadata": {},
   "outputs": [
    {
     "data": {
      "image/png": "[encoded data removed]",
      "text/plain": [
       "<Figure size 720x720 with 1 Axes>"
      ]
     },
     "metadata": {
      "needs_background": "light"
     },
     "output_type": "display_data"
    },
    {
     "name": "stdout",
     "output_type": "stream",
     "text": [
      "1    7486\n",
      "0    7486\n",
      "Name: Class, dtype: int64\n"
     ]
    }
   ],
   "source": [
    "#Handling the class imbalance using the SMOTE method\n",
    "\n",
    "smote = SMOTE(random_state=0)\n",
    "\n",
    "\n",
    "x_train,y_train=smote.fit_sample(x_train, y_train)\n",
    "\n",
    "x_train = pd.DataFrame(data=x_train)\n",
    "y_train= pd.DataFrame(data=y_train,columns=['Class'])\n",
    "\n",
    "sns.countplot(x='Class',data=y_train)\n",
    "plt.show()\n",
    "\n",
    "# What are the counts?\n",
    "print(y_train.Class.value_counts())"
   ]
  },
  {
   "cell_type": "code",
   "execution_count": 16,
   "metadata": {},
   "outputs": [
    {
     "name": "stdout",
     "output_type": "stream",
     "text": [
      "Train Data:\n",
      "Confusion matrix Train:\n",
      "-----------------------\n",
      "[[7282  204]\n",
      " [ 222 7264]]\n",
      "-------------------------------------------------------------------------------------------------------\n",
      "              precision    recall  f1-score   support\n",
      "\n",
      "           0      0.970     0.973     0.972      7486\n",
      "           1      0.973     0.970     0.972      7486\n",
      "\n",
      "    accuracy                          0.972     14972\n",
      "   macro avg      0.972     0.972     0.972     14972\n",
      "weighted avg      0.972     0.972     0.972     14972\n",
      "\n",
      "*******************************************************************************************************\n",
      "Test Data:\n",
      "Confusion matrix Test:\n",
      "----------------------\n",
      "[[2426   68]\n",
      " [   1    5]]\n",
      "-------------------------------------------------------------------------------------------------------\n",
      "              precision    recall  f1-score   support\n",
      "\n",
      "           0      1.000     0.973     0.986      2494\n",
      "           1      0.068     0.833     0.127         6\n",
      "\n",
      "    accuracy                          0.972      2500\n",
      "   macro avg      0.534     0.903     0.556      2500\n",
      "weighted avg      0.997     0.972     0.984      2500\n",
      "\n"
     ]
    }
   ],
   "source": [
    "#SVM Model with slack =1 \n",
    "\n",
    "clf_svc = SVC(kernel='linear',C=1, random_state=123)\n",
    "\n",
    "clf_svc.fit(x_train,y_train)\n",
    "\n",
    "\n",
    "train_pred = clf_svc.predict(x_train).reshape(1,-1)[0]\n",
    "test_pred = clf_svc.predict(x_test).reshape(1,-1)[0]\n",
    "\n",
    "print(\"Train Data:\")\n",
    "print(\"Confusion matrix Train:\")\n",
    "print(\"-----------------------\")\n",
    "print(metrics.confusion_matrix(y_train,train_pred))\n",
    "print(\"-------------------------------------------------------------------------------------------------------\")\n",
    "print(metrics.classification_report(y_train,train_pred, digits=3))\n",
    "\n",
    "print(\"*******************************************************************************************************\")\n",
    "\n",
    "print(\"Test Data:\")\n",
    "print(\"Confusion matrix Test:\")\n",
    "print(\"----------------------\")\n",
    "print(metrics.confusion_matrix(y_test,test_pred))\n",
    "print(\"-------------------------------------------------------------------------------------------------------\")\n",
    "print(metrics.classification_report(y_test,test_pred, digits=3))\n"
   ]
  },
  {
   "cell_type": "code",
   "execution_count": 17,
   "metadata": {},
   "outputs": [
    {
     "name": "stdout",
     "output_type": "stream",
     "text": [
      "{'kernel': 'linear', 'gamma': 0.001, 'C': 1}\n",
      "Train Data:\n",
      "Confusion matrix Train:\n",
      "-----------------------\n",
      "[[7282  204]\n",
      " [ 222 7264]]\n",
      "-------------------------------------------------------------------------------------------------------\n",
      "              precision    recall  f1-score   support\n",
      "\n",
      "           0      0.970     0.973     0.972      7486\n",
      "           1      0.973     0.970     0.972      7486\n",
      "\n",
      "    accuracy                          0.972     14972\n",
      "   macro avg      0.972     0.972     0.972     14972\n",
      "weighted avg      0.972     0.972     0.972     14972\n",
      "\n",
      "*******************************************************************************************************\n",
      "Test Data:\n",
      "Confusion matrix Test:\n",
      "----------------------\n",
      "[[2426   68]\n",
      " [   1    5]]\n",
      "-------------------------------------------------------------------------------------------------------\n",
      "              precision    recall  f1-score   support\n",
      "\n",
      "           0      1.000     0.973     0.986      2494\n",
      "           1      0.068     0.833     0.127         6\n",
      "\n",
      "    accuracy                          0.972      2500\n",
      "   macro avg      0.534     0.903     0.556      2500\n",
      "weighted avg      0.997     0.972     0.984      2500\n",
      "\n"
     ]
    }
   ],
   "source": [
    "clf_svc3 = SVC()\n",
    "\n",
    "\n",
    "svc3_param_random = {'C': [0.01, 0.1, 1], \n",
    "                  'gamma':[0, 0.0001, 0.001, 0.01], \n",
    "                 \"kernel\":['rbf','linear']}\n",
    "\n",
    "\n",
    "svc3_random = RandomizedSearchCV(clf_svc3, param_distributions=svc3_param_random, cv=5,random_state=123)\n",
    "\n",
    "\n",
    "#clf_svc2.set_params(classifier__kernel='rbf',classifier__C=1,classifier__gamma=0.001,classifier__random_state=123)\n",
    "\n",
    "svc3_random.fit(x_train,y_train)\n",
    "\n",
    "train_pred = svc3_random.predict(x_train).reshape(1,-1)[0]\n",
    "test_pred = svc3_random.predict(x_test).reshape(1,-1)[0]\n",
    "\n",
    "print(svc3_random.best_params_)\n",
    "print(\"Train Data:\")\n",
    "print(\"Confusion matrix Train:\")\n",
    "print(\"-----------------------\")\n",
    "print(metrics.confusion_matrix(y_train,train_pred))\n",
    "print(\"-------------------------------------------------------------------------------------------------------\")\n",
    "print(metrics.classification_report(y_train,train_pred, digits=3))\n",
    "\n",
    "print(\"*******************************************************************************************************\")\n",
    "\n",
    "print(\"Test Data:\")\n",
    "print(\"Confusion matrix Test:\")\n",
    "print(\"----------------------\")\n",
    "print(metrics.confusion_matrix(y_test,test_pred))\n",
    "print(\"-------------------------------------------------------------------------------------------------------\")\n",
    "print(metrics.classification_report(y_test,test_pred, digits=3))\n"
   ]
  },
  {
   "cell_type": "code",
   "execution_count": 18,
   "metadata": {},
   "outputs": [
    {
     "name": "stdout",
     "output_type": "stream",
     "text": [
      "Train Data:\n",
      "Confusion matrix Train:\n",
      "-----------------------\n",
      "[[7486    0]\n",
      " [   0 7486]]\n",
      "-------------------------------------------------------------------------------------------------------\n",
      "              precision    recall  f1-score   support\n",
      "\n",
      "           0      1.000     1.000     1.000      7486\n",
      "           1      1.000     1.000     1.000      7486\n",
      "\n",
      "    accuracy                          1.000     14972\n",
      "   macro avg      1.000     1.000     1.000     14972\n",
      "weighted avg      1.000     1.000     1.000     14972\n",
      "\n",
      "*******************************************************************************************************\n",
      "Test Data:\n",
      "Confusion matrix Test:\n",
      "----------------------\n",
      "[[2486    8]\n",
      " [   1    5]]\n",
      "-------------------------------------------------------------------------------------------------------\n",
      "              precision    recall  f1-score   support\n",
      "\n",
      "           0      1.000     0.997     0.998      2494\n",
      "           1      0.385     0.833     0.526         6\n",
      "\n",
      "    accuracy                          0.996      2500\n",
      "   macro avg      0.692     0.915     0.762      2500\n",
      "weighted avg      0.998     0.996     0.997      2500\n",
      "\n"
     ]
    }
   ],
   "source": [
    "#XG Boosting\n",
    "\n",
    "from xgboost import XGBClassifier\n",
    "clf_xg =XGBClassifier(n_estimators=500, gamma=0,learning_rate=0.1,max_depth=4)\n",
    "\n",
    "\n",
    "clf_xg.fit(x_train,y_train)\n",
    "\n",
    "train_pred = clf_xg.predict(x_train).reshape(1,-1)[0]\n",
    "test_pred = clf_xg.predict(x_test).reshape(1,-1)[0]\n",
    "\n",
    "\n",
    "\n",
    "print(\"Train Data:\")\n",
    "print(\"Confusion matrix Train:\")\n",
    "print(\"-----------------------\")\n",
    "print(metrics.confusion_matrix(y_train,train_pred))\n",
    "print(\"-------------------------------------------------------------------------------------------------------\")\n",
    "print(metrics.classification_report(y_train,train_pred, digits=3))\n",
    "\n",
    "print(\"*******************************************************************************************************\")\n",
    "\n",
    "print(\"Test Data:\")\n",
    "print(\"Confusion matrix Test:\")\n",
    "print(\"----------------------\")\n",
    "print(metrics.confusion_matrix(y_test,test_pred))\n",
    "print(\"-------------------------------------------------------------------------------------------------------\")\n",
    "print(metrics.classification_report(y_test,test_pred, digits=3))"
   ]
  },
  {
   "cell_type": "code",
   "execution_count": 19,
   "metadata": {},
   "outputs": [
    {
     "data": {
      "image/png": "[encoded data removed]",
      "text/plain": [
       "<Figure size 720x720 with 1 Axes>"
      ]
     },
     "metadata": {
      "needs_background": "light"
     },
     "output_type": "display_data"
    }
   ],
   "source": [
    "from sklearn import tree\n",
    "\n",
    "max_depths = np.linspace(1, 32, 32, endpoint=True)\n",
    "\n",
    "train_results = []\n",
    "test_results = []\n",
    "\n",
    "for max_depth in max_depths:\n",
    "    dt =tree.DecisionTreeClassifier(max_depth=max_depth)\n",
    "    dt.set_params(random_state=123)\n",
    "    #dt = tree.DecisionTreeClassifier(max_depth=max_depth)\n",
    "    dt.fit(x_train,y_train)\n",
    "    \n",
    "    train_pred = dt.predict(x_train).reshape(1,-1)[0]\n",
    "    confusion_matrix_train = confusion_matrix(y_train,train_pred)\n",
    "    Accuracy_Train=(confusion_matrix_train[0,0]+confusion_matrix_train[1,1])/(confusion_matrix_train[0,0]+confusion_matrix_train[0,1]+confusion_matrix_train[1,0]+confusion_matrix_train[1,1])\n",
    "    train_results.append(Accuracy_Train)\n",
    "    \n",
    "    test_pred = dt.predict(x_test).reshape(1,-1)[0]\n",
    "    confusion_matrix_test = confusion_matrix(y_test, test_pred)\n",
    "    Accuracy_Test=(confusion_matrix_test[0,0]+confusion_matrix_test[1,1])/(confusion_matrix_test[0,0]+confusion_matrix_test[0,1]+confusion_matrix_test[1,0]+confusion_matrix_test[1,1])\n",
    "    test_results.append(Accuracy_Test)\n",
    "    \n",
    "from matplotlib.legend_handler import HandlerLine2D\n",
    "line1, = plt.plot(max_depths, train_results,'b', label='Train Accuracy')\n",
    "line2, = plt.plot(max_depths, test_results,'r', label='Test Accuracy')\n",
    "plt.legend(handler_map={line1: HandlerLine2D(numpoints=2)})\n",
    "plt.ylabel('Accuracy')\n",
    "plt.xlabel('Tree depth')\n",
    "plt.show()"
   ]
  },
  {
   "cell_type": "code",
   "execution_count": 20,
   "metadata": {},
   "outputs": [
    {
     "name": "stdout",
     "output_type": "stream",
     "text": [
      "{'max_depth': 17, 'criterion': 'gini'}\n",
      "Train Data:\n",
      "Confusion matrix Train:\n",
      "-----------------------\n",
      "[[7486    0]\n",
      " [   0 7486]]\n",
      "-------------------------------------------------------------------------------------------------------\n",
      "              precision    recall  f1-score   support\n",
      "\n",
      "           0      1.000     1.000     1.000      7486\n",
      "           1      1.000     1.000     1.000      7486\n",
      "\n",
      "    accuracy                          1.000     14972\n",
      "   macro avg      1.000     1.000     1.000     14972\n",
      "weighted avg      1.000     1.000     1.000     14972\n",
      "\n",
      "*******************************************************************************************************\n",
      "Test Data:\n",
      "Confusion matrix Test:\n",
      "----------------------\n",
      "[[2490    4]\n",
      " [   4    2]]\n",
      "-------------------------------------------------------------------------------------------------------\n",
      "              precision    recall  f1-score   support\n",
      "\n",
      "           0      0.998     0.998     0.998      2494\n",
      "           1      0.333     0.333     0.333         6\n",
      "\n",
      "    accuracy                          0.997      2500\n",
      "   macro avg      0.666     0.666     0.666      2500\n",
      "weighted avg      0.997     0.997     0.997      2500\n",
      "\n"
     ]
    }
   ],
   "source": [
    "from sklearn import tree\n",
    "\n",
    "clf_dt3 = tree.DecisionTreeClassifier()\n",
    "\n",
    "clf_dt3_param_random = {'criterion': ['entropy','gini'], \n",
    "                'max_depth':[15,16,17]}\n",
    "\n",
    "\n",
    "clf_dt3_random = RandomizedSearchCV(clf_dt3, param_distributions=clf_dt3_param_random,cv=5,random_state=123)\n",
    "\n",
    "\n",
    "#clf_dt2.set_params(classifier__criterion ='entropy',classifier__max_depth=15,classifier__random_state=123)\n",
    "\n",
    "clf_dt3_random.fit(x_train,y_train)\n",
    "\n",
    "\n",
    "train_pred = clf_dt3_random.predict(x_train).reshape(1,-1)[0]\n",
    "test_pred = clf_dt3_random.predict(x_test).reshape(1,-1)[0]\n",
    "\n",
    "\n",
    "print(clf_dt3_random.best_params_)\n",
    "\n",
    "print(\"Train Data:\")\n",
    "print(\"Confusion matrix Train:\")\n",
    "print(\"-----------------------\")\n",
    "print(metrics.confusion_matrix(y_train,train_pred))\n",
    "print(\"-------------------------------------------------------------------------------------------------------\")\n",
    "print(metrics.classification_report(y_train,train_pred, digits=3))\n",
    "\n",
    "print(\"*******************************************************************************************************\")\n",
    "\n",
    "print(\"Test Data:\")\n",
    "print(\"Confusion matrix Test:\")\n",
    "print(\"----------------------\")\n",
    "print(metrics.confusion_matrix(y_test,test_pred))\n",
    "print(\"-------------------------------------------------------------------------------------------------------\")\n",
    "print(metrics.classification_report(y_test,test_pred, digits=3))"
   ]
  },
  {
   "cell_type": "markdown",
   "metadata": {},
   "source": [
    "###  Neural network / Deep learning models"
   ]
  },
  {
   "cell_type": "code",
   "execution_count": 21,
   "metadata": {},
   "outputs": [
    {
     "name": "stdout",
     "output_type": "stream",
     "text": [
      "Linear model...\n",
      "Model: \"model\"\n",
      "_________________________________________________________________\n",
      "Layer (type)                 Output Shape              Param #   \n",
      "=================================================================\n",
      "Input_data (InputLayer)      [(None, 9)]               0         \n",
      "_________________________________________________________________\n",
      "Dense_output (Dense)         (None, 2)                 20        \n",
      "=================================================================\n",
      "Total params: 20\n",
      "Trainable params: 20\n",
      "Non-trainable params: 0\n",
      "_________________________________________________________________\n"
     ]
    }
   ],
   "source": [
    "# First model - Linear model\n",
    "\n",
    "import tensorflow as tf\n",
    "\n",
    "print('Linear model...')\n",
    "input_data =  tf.keras.layers.Input(batch_shape=(None, 9), dtype='float32', name='Input_data') \n",
    "\n",
    "output_data =  tf.keras.layers.Dense(2, activation='softmax', name='Dense_output')(input_data)\n",
    "\n",
    "model_1 = tf.keras.models.Model(inputs=input_data, outputs=output_data)\n",
    "model_1.summary()\n",
    "\n",
    "model_1.compile(loss='sparse_categorical_crossentropy',  optimizer='Adam', metrics=['accuracy'])"
   ]
  },
  {
   "cell_type": "code",
   "execution_count": 22,
   "metadata": {
    "scrolled": true
   },
   "outputs": [
    {
     "name": "stdout",
     "output_type": "stream",
     "text": [
      "Train on 14972 samples, validate on 2500 samples\n",
      "Epoch 1/100\n",
      "14972/14972 - 0s - loss: 0.6953 - accuracy: 0.5286 - val_loss: 0.5954 - val_accuracy: 0.9848\n",
      "Epoch 2/100\n",
      "14972/14972 - 0s - loss: 0.6715 - accuracy: 0.5942 - val_loss: 0.6650 - val_accuracy: 0.6912\n",
      "Epoch 3/100\n",
      "14972/14972 - 0s - loss: 0.6698 - accuracy: 0.6157 - val_loss: 0.6985 - val_accuracy: 0.4872\n",
      "Epoch 4/100\n",
      "14972/14972 - 0s - loss: 0.6671 - accuracy: 0.6137 - val_loss: 0.7120 - val_accuracy: 0.4168\n",
      "Epoch 5/100\n",
      "14972/14972 - 0s - loss: 0.6631 - accuracy: 0.6143 - val_loss: 0.7154 - val_accuracy: 0.3980\n",
      "Epoch 6/100\n",
      "14972/14972 - 0s - loss: 0.6580 - accuracy: 0.6222 - val_loss: 0.7137 - val_accuracy: 0.4112\n",
      "Epoch 7/100\n",
      "14972/14972 - 0s - loss: 0.6526 - accuracy: 0.6344 - val_loss: 0.7096 - val_accuracy: 0.4344\n",
      "Epoch 8/100\n",
      "14972/14972 - 0s - loss: 0.6470 - accuracy: 0.6477 - val_loss: 0.7044 - val_accuracy: 0.4604\n",
      "Epoch 9/100\n",
      "14972/14972 - 0s - loss: 0.6413 - accuracy: 0.6610 - val_loss: 0.6987 - val_accuracy: 0.4900\n",
      "Epoch 10/100\n",
      "14972/14972 - 0s - loss: 0.6357 - accuracy: 0.6734 - val_loss: 0.6928 - val_accuracy: 0.5268\n",
      "Epoch 11/100\n",
      "14972/14972 - 0s - loss: 0.6302 - accuracy: 0.6845 - val_loss: 0.6869 - val_accuracy: 0.5576\n",
      "Epoch 12/100\n",
      "14972/14972 - 0s - loss: 0.6248 - accuracy: 0.6960 - val_loss: 0.6811 - val_accuracy: 0.5892\n",
      "Epoch 13/100\n",
      "14972/14972 - 0s - loss: 0.6195 - accuracy: 0.7072 - val_loss: 0.6753 - val_accuracy: 0.6236\n",
      "Epoch 14/100\n",
      "14972/14972 - 0s - loss: 0.6143 - accuracy: 0.7187 - val_loss: 0.6697 - val_accuracy: 0.6492\n",
      "Epoch 15/100\n",
      "14972/14972 - 0s - loss: 0.6092 - accuracy: 0.7289 - val_loss: 0.6641 - val_accuracy: 0.6692\n",
      "Epoch 16/100\n",
      "14972/14972 - 0s - loss: 0.6042 - accuracy: 0.7375 - val_loss: 0.6587 - val_accuracy: 0.6952\n",
      "Epoch 17/100\n",
      "14972/14972 - 0s - loss: 0.5993 - accuracy: 0.7471 - val_loss: 0.6533 - val_accuracy: 0.7180\n",
      "Epoch 18/100\n",
      "14972/14972 - 0s - loss: 0.5945 - accuracy: 0.7549 - val_loss: 0.6481 - val_accuracy: 0.7384\n",
      "Epoch 19/100\n",
      "14972/14972 - 0s - loss: 0.5898 - accuracy: 0.7632 - val_loss: 0.6429 - val_accuracy: 0.7608\n",
      "Epoch 20/100\n",
      "14972/14972 - 0s - loss: 0.5851 - accuracy: 0.7696 - val_loss: 0.6379 - val_accuracy: 0.7724\n",
      "Epoch 21/100\n",
      "14972/14972 - 0s - loss: 0.5806 - accuracy: 0.7751 - val_loss: 0.6329 - val_accuracy: 0.7896\n",
      "Epoch 22/100\n",
      "14972/14972 - 0s - loss: 0.5762 - accuracy: 0.7803 - val_loss: 0.6281 - val_accuracy: 0.8036\n",
      "Epoch 23/100\n",
      "14972/14972 - 0s - loss: 0.5718 - accuracy: 0.7856 - val_loss: 0.6233 - val_accuracy: 0.8128\n",
      "Epoch 24/100\n",
      "14972/14972 - 0s - loss: 0.5675 - accuracy: 0.7897 - val_loss: 0.6187 - val_accuracy: 0.8228\n",
      "Epoch 25/100\n",
      "14972/14972 - 0s - loss: 0.5633 - accuracy: 0.7951 - val_loss: 0.6141 - val_accuracy: 0.8328\n",
      "Epoch 26/100\n",
      "14972/14972 - 0s - loss: 0.5592 - accuracy: 0.8003 - val_loss: 0.6096 - val_accuracy: 0.8428\n",
      "Epoch 27/100\n",
      "14972/14972 - 0s - loss: 0.5551 - accuracy: 0.8046 - val_loss: 0.6052 - val_accuracy: 0.8488\n",
      "Epoch 28/100\n",
      "14972/14972 - 0s - loss: 0.5511 - accuracy: 0.8087 - val_loss: 0.6009 - val_accuracy: 0.8572\n",
      "Epoch 29/100\n",
      "14972/14972 - 0s - loss: 0.5472 - accuracy: 0.8122 - val_loss: 0.5966 - val_accuracy: 0.8636\n",
      "Epoch 30/100\n",
      "14972/14972 - 0s - loss: 0.5434 - accuracy: 0.8155 - val_loss: 0.5924 - val_accuracy: 0.8696\n",
      "Epoch 31/100\n",
      "14972/14972 - 0s - loss: 0.5396 - accuracy: 0.8186 - val_loss: 0.5883 - val_accuracy: 0.8756\n",
      "Epoch 32/100\n",
      "14972/14972 - 0s - loss: 0.5359 - accuracy: 0.8220 - val_loss: 0.5843 - val_accuracy: 0.8804\n",
      "Epoch 33/100\n",
      "14972/14972 - 0s - loss: 0.5323 - accuracy: 0.8248 - val_loss: 0.5804 - val_accuracy: 0.8824\n",
      "Epoch 34/100\n",
      "14972/14972 - 0s - loss: 0.5287 - accuracy: 0.8278 - val_loss: 0.5765 - val_accuracy: 0.8852\n",
      "Epoch 35/100\n",
      "14972/14972 - 0s - loss: 0.5252 - accuracy: 0.8303 - val_loss: 0.5727 - val_accuracy: 0.8892\n",
      "Epoch 36/100\n",
      "14972/14972 - 0s - loss: 0.5217 - accuracy: 0.8332 - val_loss: 0.5689 - val_accuracy: 0.8936\n",
      "Epoch 37/100\n",
      "14972/14972 - 0s - loss: 0.5183 - accuracy: 0.8359 - val_loss: 0.5652 - val_accuracy: 0.8956\n",
      "Epoch 38/100\n",
      "14972/14972 - 0s - loss: 0.5150 - accuracy: 0.8382 - val_loss: 0.5616 - val_accuracy: 0.8984\n",
      "Epoch 39/100\n",
      "14972/14972 - 0s - loss: 0.5117 - accuracy: 0.8398 - val_loss: 0.5581 - val_accuracy: 0.8992\n",
      "Epoch 40/100\n",
      "14972/14972 - 0s - loss: 0.5084 - accuracy: 0.8417 - val_loss: 0.5546 - val_accuracy: 0.9024\n",
      "Epoch 41/100\n",
      "14972/14972 - 0s - loss: 0.5052 - accuracy: 0.8440 - val_loss: 0.5511 - val_accuracy: 0.9048\n",
      "Epoch 42/100\n",
      "14972/14972 - 0s - loss: 0.5021 - accuracy: 0.8460 - val_loss: 0.5477 - val_accuracy: 0.9092\n",
      "Epoch 43/100\n",
      "14972/14972 - 0s - loss: 0.4990 - accuracy: 0.8486 - val_loss: 0.5444 - val_accuracy: 0.9116\n",
      "Epoch 44/100\n",
      "14972/14972 - 0s - loss: 0.4960 - accuracy: 0.8507 - val_loss: 0.5411 - val_accuracy: 0.9152\n",
      "Epoch 45/100\n",
      "14972/14972 - 0s - loss: 0.4930 - accuracy: 0.8528 - val_loss: 0.5379 - val_accuracy: 0.9160\n",
      "Epoch 46/100\n",
      "14972/14972 - 0s - loss: 0.4900 - accuracy: 0.8550 - val_loss: 0.5347 - val_accuracy: 0.9168\n",
      "Epoch 47/100\n",
      "14972/14972 - 0s - loss: 0.4871 - accuracy: 0.8569 - val_loss: 0.5316 - val_accuracy: 0.9180\n",
      "Epoch 48/100\n",
      "14972/14972 - 0s - loss: 0.4843 - accuracy: 0.8588 - val_loss: 0.5285 - val_accuracy: 0.9192\n",
      "Epoch 49/100\n",
      "14972/14972 - 0s - loss: 0.4814 - accuracy: 0.8605 - val_loss: 0.5255 - val_accuracy: 0.9208\n",
      "Epoch 50/100\n",
      "14972/14972 - 0s - loss: 0.4787 - accuracy: 0.8618 - val_loss: 0.5225 - val_accuracy: 0.9212\n",
      "Epoch 51/100\n",
      "14972/14972 - 0s - loss: 0.4759 - accuracy: 0.8637 - val_loss: 0.5196 - val_accuracy: 0.9224\n",
      "Epoch 52/100\n",
      "14972/14972 - 0s - loss: 0.4732 - accuracy: 0.8647 - val_loss: 0.5167 - val_accuracy: 0.9228\n",
      "Epoch 53/100\n",
      "14972/14972 - 0s - loss: 0.4706 - accuracy: 0.8659 - val_loss: 0.5139 - val_accuracy: 0.9228\n",
      "Epoch 54/100\n",
      "14972/14972 - 0s - loss: 0.4680 - accuracy: 0.8674 - val_loss: 0.5110 - val_accuracy: 0.9240\n",
      "Epoch 55/100\n",
      "14972/14972 - 0s - loss: 0.4654 - accuracy: 0.8689 - val_loss: 0.5083 - val_accuracy: 0.9244\n",
      "Epoch 56/100\n",
      "14972/14972 - 0s - loss: 0.4629 - accuracy: 0.8701 - val_loss: 0.5056 - val_accuracy: 0.9256\n",
      "Epoch 57/100\n",
      "14972/14972 - 0s - loss: 0.4604 - accuracy: 0.8716 - val_loss: 0.5029 - val_accuracy: 0.9256\n",
      "Epoch 58/100\n",
      "14972/14972 - 0s - loss: 0.4579 - accuracy: 0.8726 - val_loss: 0.5002 - val_accuracy: 0.9260\n",
      "Epoch 59/100\n",
      "14972/14972 - 0s - loss: 0.4555 - accuracy: 0.8739 - val_loss: 0.4976 - val_accuracy: 0.9260\n",
      "Epoch 60/100\n",
      "14972/14972 - 0s - loss: 0.4531 - accuracy: 0.8748 - val_loss: 0.4951 - val_accuracy: 0.9256\n",
      "Epoch 61/100\n",
      "14972/14972 - 0s - loss: 0.4507 - accuracy: 0.8758 - val_loss: 0.4925 - val_accuracy: 0.9264\n",
      "Epoch 62/100\n",
      "14972/14972 - 0s - loss: 0.4484 - accuracy: 0.8772 - val_loss: 0.4901 - val_accuracy: 0.9276\n",
      "Epoch 63/100\n",
      "14972/14972 - 0s - loss: 0.4461 - accuracy: 0.8784 - val_loss: 0.4876 - val_accuracy: 0.9284\n",
      "Epoch 64/100\n",
      "14972/14972 - 0s - loss: 0.4438 - accuracy: 0.8794 - val_loss: 0.4852 - val_accuracy: 0.9296\n",
      "Epoch 65/100\n",
      "14972/14972 - 0s - loss: 0.4415 - accuracy: 0.8800 - val_loss: 0.4828 - val_accuracy: 0.9296\n",
      "Epoch 66/100\n",
      "14972/14972 - 0s - loss: 0.4393 - accuracy: 0.8806 - val_loss: 0.4804 - val_accuracy: 0.9304\n",
      "Epoch 67/100\n",
      "14972/14972 - 0s - loss: 0.4372 - accuracy: 0.8815 - val_loss: 0.4781 - val_accuracy: 0.9300\n",
      "Epoch 68/100\n",
      "14972/14972 - 0s - loss: 0.4350 - accuracy: 0.8824 - val_loss: 0.4758 - val_accuracy: 0.9312\n",
      "Epoch 69/100\n",
      "14972/14972 - 0s - loss: 0.4329 - accuracy: 0.8832 - val_loss: 0.4735 - val_accuracy: 0.9316\n",
      "Epoch 70/100\n",
      "14972/14972 - 0s - loss: 0.4308 - accuracy: 0.8843 - val_loss: 0.4713 - val_accuracy: 0.9316\n",
      "Epoch 71/100\n",
      "14972/14972 - 0s - loss: 0.4287 - accuracy: 0.8853 - val_loss: 0.4691 - val_accuracy: 0.9320\n",
      "Epoch 72/100\n",
      "14972/14972 - 0s - loss: 0.4267 - accuracy: 0.8860 - val_loss: 0.4669 - val_accuracy: 0.9324\n",
      "Epoch 73/100\n",
      "14972/14972 - 0s - loss: 0.4247 - accuracy: 0.8869 - val_loss: 0.4648 - val_accuracy: 0.9332\n",
      "Epoch 74/100\n",
      "14972/14972 - 0s - loss: 0.4227 - accuracy: 0.8873 - val_loss: 0.4627 - val_accuracy: 0.9336\n",
      "Epoch 75/100\n",
      "14972/14972 - 0s - loss: 0.4207 - accuracy: 0.8877 - val_loss: 0.4606 - val_accuracy: 0.9336\n",
      "Epoch 76/100\n",
      "14972/14972 - 0s - loss: 0.4188 - accuracy: 0.8887 - val_loss: 0.4585 - val_accuracy: 0.9340\n",
      "Epoch 77/100\n",
      "14972/14972 - 0s - loss: 0.4169 - accuracy: 0.8889 - val_loss: 0.4565 - val_accuracy: 0.9340\n"
     ]
    },
    {
     "name": "stdout",
     "output_type": "stream",
     "text": [
      "Epoch 78/100\n",
      "14972/14972 - 0s - loss: 0.4150 - accuracy: 0.8893 - val_loss: 0.4545 - val_accuracy: 0.9340\n",
      "Epoch 79/100\n",
      "14972/14972 - 0s - loss: 0.4131 - accuracy: 0.8901 - val_loss: 0.4525 - val_accuracy: 0.9340\n",
      "Epoch 80/100\n",
      "14972/14972 - 0s - loss: 0.4113 - accuracy: 0.8909 - val_loss: 0.4506 - val_accuracy: 0.9340\n",
      "Epoch 81/100\n",
      "14972/14972 - 0s - loss: 0.4095 - accuracy: 0.8921 - val_loss: 0.4486 - val_accuracy: 0.9344\n",
      "Epoch 82/100\n",
      "14972/14972 - 0s - loss: 0.4077 - accuracy: 0.8931 - val_loss: 0.4467 - val_accuracy: 0.9348\n",
      "Epoch 83/100\n",
      "14972/14972 - 0s - loss: 0.4059 - accuracy: 0.8937 - val_loss: 0.4448 - val_accuracy: 0.9352\n",
      "Epoch 84/100\n",
      "14972/14972 - 0s - loss: 0.4041 - accuracy: 0.8943 - val_loss: 0.4430 - val_accuracy: 0.9352\n",
      "Epoch 85/100\n",
      "14972/14972 - 0s - loss: 0.4024 - accuracy: 0.8947 - val_loss: 0.4411 - val_accuracy: 0.9352\n",
      "Epoch 86/100\n",
      "14972/14972 - 0s - loss: 0.4007 - accuracy: 0.8952 - val_loss: 0.4393 - val_accuracy: 0.9352\n",
      "Epoch 87/100\n",
      "14972/14972 - 0s - loss: 0.3990 - accuracy: 0.8956 - val_loss: 0.4375 - val_accuracy: 0.9352\n",
      "Epoch 88/100\n",
      "14972/14972 - 0s - loss: 0.3973 - accuracy: 0.8967 - val_loss: 0.4358 - val_accuracy: 0.9352\n",
      "Epoch 89/100\n",
      "14972/14972 - 0s - loss: 0.3957 - accuracy: 0.8972 - val_loss: 0.4340 - val_accuracy: 0.9356\n",
      "Epoch 90/100\n",
      "14972/14972 - 0s - loss: 0.3941 - accuracy: 0.8977 - val_loss: 0.4323 - val_accuracy: 0.9360\n",
      "Epoch 91/100\n",
      "14972/14972 - 0s - loss: 0.3924 - accuracy: 0.8983 - val_loss: 0.4306 - val_accuracy: 0.9360\n",
      "Epoch 92/100\n",
      "14972/14972 - 0s - loss: 0.3909 - accuracy: 0.8991 - val_loss: 0.4289 - val_accuracy: 0.9360\n",
      "Epoch 93/100\n",
      "14972/14972 - 0s - loss: 0.3893 - accuracy: 0.8996 - val_loss: 0.4272 - val_accuracy: 0.9360\n",
      "Epoch 94/100\n",
      "14972/14972 - 0s - loss: 0.3877 - accuracy: 0.9005 - val_loss: 0.4256 - val_accuracy: 0.9360\n",
      "Epoch 95/100\n",
      "14972/14972 - 0s - loss: 0.3862 - accuracy: 0.9012 - val_loss: 0.4239 - val_accuracy: 0.9368\n",
      "Epoch 96/100\n",
      "14972/14972 - 0s - loss: 0.3847 - accuracy: 0.9020 - val_loss: 0.4223 - val_accuracy: 0.9368\n",
      "Epoch 97/100\n",
      "14972/14972 - 0s - loss: 0.3832 - accuracy: 0.9023 - val_loss: 0.4207 - val_accuracy: 0.9364\n",
      "Epoch 98/100\n",
      "14972/14972 - 0s - loss: 0.3817 - accuracy: 0.9029 - val_loss: 0.4192 - val_accuracy: 0.9364\n",
      "Epoch 99/100\n",
      "14972/14972 - 0s - loss: 0.3802 - accuracy: 0.9035 - val_loss: 0.4176 - val_accuracy: 0.9364\n",
      "Epoch 100/100\n",
      "14972/14972 - 0s - loss: 0.3787 - accuracy: 0.9042 - val_loss: 0.4161 - val_accuracy: 0.9364\n"
     ]
    }
   ],
   "source": [
    "history_1 = model_1.fit(x_train, y_train, batch_size=128, epochs=100, verbose=2,shuffle=0, validation_data=(x_test, y_test))"
   ]
  },
  {
   "cell_type": "code",
   "execution_count": 23,
   "metadata": {},
   "outputs": [
    {
     "name": "stdout",
     "output_type": "stream",
     "text": [
      "dict_keys(['loss', 'accuracy', 'val_loss', 'val_accuracy'])\n"
     ]
    },
    {
     "data": {
      "image/png": "[encoded data removed]",
      "text/plain": [
       "<Figure size 720x720 with 1 Axes>"
      ]
     },
     "metadata": {
      "needs_background": "light"
     },
     "output_type": "display_data"
    }
   ],
   "source": [
    "print(history_1.history.keys())\n",
    "plt.plot(history_1.history['loss'])\n",
    "plt.plot(history_1.history['val_loss'])\n",
    "plt.title('Loss Plot')\n",
    "plt.ylabel('Loss')\n",
    "plt.xlabel('Epoch')\n",
    "plt.legend(['Train', 'Validation'])\n",
    "plt.show()"
   ]
  },
  {
   "cell_type": "code",
   "execution_count": 24,
   "metadata": {},
   "outputs": [],
   "source": [
    "# Predicting the Model\n",
    "test_pred = model_1.predict(x_test)\n",
    "train_pred = model_1.predict(x_train)\n",
    "\n",
    "test_pred = np.argmax(test_pred, axis=1)\n",
    "train_pred = np.argmax(train_pred, axis=1)\n",
    "\n"
   ]
  },
  {
   "cell_type": "code",
   "execution_count": 25,
   "metadata": {},
   "outputs": [
    {
     "name": "stdout",
     "output_type": "stream",
     "text": [
      "Train Data:\n",
      "Confusion matrix Train:\n",
      "-----------------------\n",
      "[[7036  450]\n",
      " [ 439 7047]]\n",
      "-------------------------------------------------------------------------------------------------------\n",
      "              precision    recall  f1-score   support\n",
      "\n",
      "           0      0.941     0.940     0.941      7486\n",
      "           1      0.940     0.941     0.941      7486\n",
      "\n",
      "    accuracy                          0.941     14972\n",
      "   macro avg      0.941     0.941     0.941     14972\n",
      "weighted avg      0.941     0.941     0.941     14972\n",
      "\n",
      "*******************************************************************************************************\n",
      "Test Data:\n",
      "Confusion matrix Test:\n",
      "----------------------\n",
      "[[2336  158]\n",
      " [   1    5]]\n",
      "-------------------------------------------------------------------------------------------------------\n",
      "              precision    recall  f1-score   support\n",
      "\n",
      "           0      1.000     0.937     0.967      2494\n",
      "           1      0.031     0.833     0.059         6\n",
      "\n",
      "    accuracy                          0.936      2500\n",
      "   macro avg      0.515     0.885     0.513      2500\n",
      "weighted avg      0.997     0.936     0.965      2500\n",
      "\n"
     ]
    }
   ],
   "source": [
    "print(\"Train Data:\")\n",
    "print(\"Confusion matrix Train:\")\n",
    "print(\"-----------------------\")\n",
    "print(metrics.confusion_matrix(y_train,train_pred))\n",
    "print(\"-------------------------------------------------------------------------------------------------------\")\n",
    "print(metrics.classification_report(y_train,train_pred, digits=3))\n",
    "\n",
    "print(\"*******************************************************************************************************\")\n",
    "\n",
    "print(\"Test Data:\")\n",
    "print(\"Confusion matrix Test:\")\n",
    "print(\"----------------------\")\n",
    "print(metrics.confusion_matrix(y_test,test_pred))\n",
    "print(\"-------------------------------------------------------------------------------------------------------\")\n",
    "print(metrics.classification_report(y_test,test_pred, digits=3))"
   ]
  },
  {
   "cell_type": "code",
   "execution_count": 39,
   "metadata": {},
   "outputs": [
    {
     "name": "stdout",
     "output_type": "stream",
     "text": [
      "dense 1 model...\n",
      "Model: \"model_8\"\n",
      "_________________________________________________________________\n",
      "Layer (type)                 Output Shape              Param #   \n",
      "=================================================================\n",
      "Input_data (InputLayer)      [(None, 9)]               0         \n",
      "_________________________________________________________________\n",
      "Dense_layer_1 (Dense)        (None, 128)               1280      \n",
      "_________________________________________________________________\n",
      "Dense_layer_2 (Dense)        (None, 256)               33024     \n",
      "_________________________________________________________________\n",
      "Dense_layer_3 (Dense)        (None, 128)               32896     \n",
      "_________________________________________________________________\n",
      "Dense_output (Dense)         (None, 2)                 258       \n",
      "=================================================================\n",
      "Total params: 67,458\n",
      "Trainable params: 67,458\n",
      "Non-trainable params: 0\n",
      "_________________________________________________________________\n"
     ]
    }
   ],
   "source": [
    "# Second model - Deep nn model\n",
    "print('dense 1 model...')\n",
    "input_data = tf.keras.layers.Input(batch_shape=(None, 9), dtype='float32', name='Input_data') \n",
    "\n",
    "dense1  = tf.keras.layers.Dense(128, activation='relu', name='Dense_layer_1')(input_data)\n",
    "dense2  = tf.keras.layers.Dense(256, activation='relu', name='Dense_layer_2')(dense1)\n",
    "dense3  = tf.keras.layers.Dense(128, activation='relu', name='Dense_layer_3')(dense2)    \n",
    "\n",
    "output_data = tf.keras.layers.Dense(2, activation='softmax', name='Dense_output')(dense3)\n",
    "\n",
    "# Model Architecture defined\n",
    "model_2 = tf.keras.models.Model(inputs=input_data, outputs=output_data)\n",
    "model_2.summary()\n",
    "model_2.compile(loss='sparse_categorical_crossentropy',  optimizer='Adam', metrics=['accuracy'])"
   ]
  },
  {
   "cell_type": "code",
   "execution_count": 40,
   "metadata": {
    "scrolled": true
   },
   "outputs": [
    {
     "name": "stdout",
     "output_type": "stream",
     "text": [
      "Train on 14972 samples, validate on 2500 samples\n",
      "Epoch 1/100\n",
      "14972/14972 - 0s - loss: 0.4258 - accuracy: 0.8916 - val_loss: 8.3502 - val_accuracy: 0.0024\n",
      "Epoch 2/100\n",
      "14972/14972 - 0s - loss: 1.2242 - accuracy: 0.6131 - val_loss: 4.5058 - val_accuracy: 0.0024\n",
      "Epoch 3/100\n",
      "14972/14972 - 0s - loss: 0.9376 - accuracy: 0.6188 - val_loss: 5.8079 - val_accuracy: 0.0024\n",
      "Epoch 4/100\n",
      "14972/14972 - 0s - loss: 0.9298 - accuracy: 0.6326 - val_loss: 2.7521 - val_accuracy: 0.0024\n",
      "Epoch 5/100\n",
      "14972/14972 - 0s - loss: 0.7296 - accuracy: 0.6858 - val_loss: 4.2302 - val_accuracy: 0.0024\n",
      "Epoch 6/100\n",
      "14972/14972 - 0s - loss: 0.8119 - accuracy: 0.5999 - val_loss: 0.9464 - val_accuracy: 0.0024\n",
      "Epoch 7/100\n",
      "14972/14972 - 0s - loss: 0.4724 - accuracy: 0.7034 - val_loss: 4.2682 - val_accuracy: 0.0024\n",
      "Epoch 8/100\n",
      "14972/14972 - 0s - loss: 0.7218 - accuracy: 0.7481 - val_loss: 3.2353 - val_accuracy: 0.0024\n",
      "Epoch 9/100\n",
      "14972/14972 - 0s - loss: 0.6605 - accuracy: 0.7162 - val_loss: 3.2455 - val_accuracy: 0.0024\n",
      "Epoch 10/100\n",
      "14972/14972 - 0s - loss: 0.5912 - accuracy: 0.7074 - val_loss: 3.3677 - val_accuracy: 0.0024\n",
      "Epoch 11/100\n",
      "14972/14972 - 0s - loss: 0.5550 - accuracy: 0.7350 - val_loss: 3.6454 - val_accuracy: 0.0024\n",
      "Epoch 12/100\n",
      "14972/14972 - 0s - loss: 0.5521 - accuracy: 0.7879 - val_loss: 2.7674 - val_accuracy: 0.0024\n",
      "Epoch 13/100\n",
      "14972/14972 - 0s - loss: 0.5366 - accuracy: 0.7989 - val_loss: 3.3844 - val_accuracy: 0.0024\n",
      "Epoch 14/100\n",
      "14972/14972 - 0s - loss: 0.6094 - accuracy: 0.6976 - val_loss: 1.3159 - val_accuracy: 0.0764\n",
      "Epoch 15/100\n",
      "14972/14972 - 0s - loss: 0.3811 - accuracy: 0.8450 - val_loss: 4.1240 - val_accuracy: 0.0024\n",
      "Epoch 16/100\n",
      "14972/14972 - 0s - loss: 0.5629 - accuracy: 0.7413 - val_loss: 1.0781 - val_accuracy: 0.1300\n",
      "Epoch 17/100\n",
      "14972/14972 - 0s - loss: 0.3752 - accuracy: 0.8299 - val_loss: 2.7927 - val_accuracy: 0.0116\n",
      "Epoch 18/100\n",
      "14972/14972 - 0s - loss: 0.4951 - accuracy: 0.7761 - val_loss: 1.1635 - val_accuracy: 0.1068\n",
      "Epoch 19/100\n",
      "14972/14972 - 0s - loss: 0.3884 - accuracy: 0.8123 - val_loss: 1.8075 - val_accuracy: 0.0488\n",
      "Epoch 20/100\n",
      "14972/14972 - 0s - loss: 0.4105 - accuracy: 0.8031 - val_loss: 1.3835 - val_accuracy: 0.1144\n",
      "Epoch 21/100\n",
      "14972/14972 - 0s - loss: 0.3525 - accuracy: 0.8342 - val_loss: 1.5513 - val_accuracy: 0.1076\n",
      "Epoch 22/100\n",
      "14972/14972 - 0s - loss: 0.3566 - accuracy: 0.8279 - val_loss: 2.0875 - val_accuracy: 0.0048\n",
      "Epoch 23/100\n",
      "14972/14972 - 0s - loss: 0.3494 - accuracy: 0.8353 - val_loss: 1.8260 - val_accuracy: 0.1020\n",
      "Epoch 24/100\n",
      "14972/14972 - 0s - loss: 0.3777 - accuracy: 0.8158 - val_loss: 1.2071 - val_accuracy: 0.1984\n",
      "Epoch 25/100\n",
      "14972/14972 - 0s - loss: 0.3303 - accuracy: 0.8400 - val_loss: 1.4011 - val_accuracy: 0.2496\n",
      "Epoch 26/100\n",
      "14972/14972 - 0s - loss: 0.3056 - accuracy: 0.8594 - val_loss: 1.3299 - val_accuracy: 0.2272\n",
      "Epoch 27/100\n",
      "14972/14972 - 0s - loss: 0.3000 - accuracy: 0.8615 - val_loss: 1.5139 - val_accuracy: 0.1884\n",
      "Epoch 28/100\n",
      "14972/14972 - 0s - loss: 0.3036 - accuracy: 0.8715 - val_loss: 2.1271 - val_accuracy: 0.0484\n",
      "Epoch 29/100\n",
      "14972/14972 - 0s - loss: 0.3681 - accuracy: 0.8144 - val_loss: 1.0887 - val_accuracy: 0.3068\n",
      "Epoch 30/100\n",
      "14972/14972 - 0s - loss: 0.2932 - accuracy: 0.8684 - val_loss: 2.1523 - val_accuracy: 0.0396\n",
      "Epoch 31/100\n",
      "14972/14972 - 0s - loss: 0.3182 - accuracy: 0.8464 - val_loss: 1.7750 - val_accuracy: 0.0436\n",
      "Epoch 32/100\n",
      "14972/14972 - 0s - loss: 0.3227 - accuracy: 0.8295 - val_loss: 1.3002 - val_accuracy: 0.2164\n",
      "Epoch 33/100\n",
      "14972/14972 - 0s - loss: 0.2843 - accuracy: 0.8648 - val_loss: 1.1956 - val_accuracy: 0.3172\n",
      "Epoch 34/100\n",
      "14972/14972 - 0s - loss: 0.2704 - accuracy: 0.8756 - val_loss: 1.2196 - val_accuracy: 0.3756\n",
      "Epoch 35/100\n",
      "14972/14972 - 0s - loss: 0.2632 - accuracy: 0.8830 - val_loss: 1.1936 - val_accuracy: 0.3608\n",
      "Epoch 36/100\n",
      "14972/14972 - 0s - loss: 0.2642 - accuracy: 0.8842 - val_loss: 1.7322 - val_accuracy: 0.1800\n",
      "Epoch 37/100\n",
      "14972/14972 - 0s - loss: 0.2922 - accuracy: 0.8630 - val_loss: 1.1417 - val_accuracy: 0.4120\n",
      "Epoch 38/100\n",
      "14972/14972 - 0s - loss: 0.2648 - accuracy: 0.8825 - val_loss: 1.1680 - val_accuracy: 0.4048\n",
      "Epoch 39/100\n",
      "14972/14972 - 0s - loss: 0.2515 - accuracy: 0.8883 - val_loss: 1.1756 - val_accuracy: 0.3984\n",
      "Epoch 40/100\n",
      "14972/14972 - 0s - loss: 0.2477 - accuracy: 0.8919 - val_loss: 1.1732 - val_accuracy: 0.4180\n",
      "Epoch 41/100\n",
      "14972/14972 - 0s - loss: 0.2525 - accuracy: 0.8885 - val_loss: 1.1226 - val_accuracy: 0.4260\n",
      "Epoch 42/100\n",
      "14972/14972 - 0s - loss: 0.2399 - accuracy: 0.8938 - val_loss: 1.1296 - val_accuracy: 0.4416\n",
      "Epoch 43/100\n",
      "14972/14972 - 0s - loss: 0.2382 - accuracy: 0.8968 - val_loss: 1.1427 - val_accuracy: 0.4272\n",
      "Epoch 44/100\n",
      "14972/14972 - 0s - loss: 0.2350 - accuracy: 0.8971 - val_loss: 1.1118 - val_accuracy: 0.4444\n",
      "Epoch 45/100\n",
      "14972/14972 - 0s - loss: 0.2299 - accuracy: 0.9009 - val_loss: 1.1229 - val_accuracy: 0.4384\n",
      "Epoch 46/100\n",
      "14972/14972 - 0s - loss: 0.2335 - accuracy: 0.8987 - val_loss: 1.1032 - val_accuracy: 0.4612\n",
      "Epoch 47/100\n",
      "14972/14972 - 0s - loss: 0.2272 - accuracy: 0.9039 - val_loss: 1.0925 - val_accuracy: 0.4476\n",
      "Epoch 48/100\n",
      "14972/14972 - 0s - loss: 0.2264 - accuracy: 0.9020 - val_loss: 1.0804 - val_accuracy: 0.4660\n",
      "Epoch 49/100\n",
      "14972/14972 - 0s - loss: 0.2216 - accuracy: 0.9066 - val_loss: 1.0940 - val_accuracy: 0.4660\n",
      "Epoch 50/100\n",
      "14972/14972 - 0s - loss: 0.2226 - accuracy: 0.9119 - val_loss: 1.1710 - val_accuracy: 0.4376\n",
      "Epoch 51/100\n",
      "14972/14972 - 0s - loss: 0.2375 - accuracy: 0.9025 - val_loss: 1.0425 - val_accuracy: 0.4812\n",
      "Epoch 52/100\n",
      "14972/14972 - 0s - loss: 0.2293 - accuracy: 0.8996 - val_loss: 1.0423 - val_accuracy: 0.5084\n",
      "Epoch 53/100\n",
      "14972/14972 - 0s - loss: 0.2210 - accuracy: 0.9072 - val_loss: 1.0279 - val_accuracy: 0.5032\n",
      "Epoch 54/100\n",
      "14972/14972 - 0s - loss: 0.2142 - accuracy: 0.9089 - val_loss: 1.0443 - val_accuracy: 0.5104\n",
      "Epoch 55/100\n",
      "14972/14972 - 0s - loss: 0.2161 - accuracy: 0.9117 - val_loss: 1.4900 - val_accuracy: 0.2836\n",
      "Epoch 56/100\n",
      "14972/14972 - 0s - loss: 0.2369 - accuracy: 0.8969 - val_loss: 1.3070 - val_accuracy: 0.4584\n",
      "Epoch 57/100\n",
      "14972/14972 - 0s - loss: 0.2346 - accuracy: 0.9011 - val_loss: 0.9606 - val_accuracy: 0.5544\n",
      "Epoch 58/100\n",
      "14972/14972 - 0s - loss: 0.2214 - accuracy: 0.9064 - val_loss: 1.0834 - val_accuracy: 0.5564\n",
      "Epoch 59/100\n",
      "14972/14972 - 0s - loss: 0.2080 - accuracy: 0.9156 - val_loss: 1.0315 - val_accuracy: 0.5524\n",
      "Epoch 60/100\n",
      "14972/14972 - 0s - loss: 0.2110 - accuracy: 0.9144 - val_loss: 0.9634 - val_accuracy: 0.5656\n",
      "Epoch 61/100\n",
      "14972/14972 - 0s - loss: 0.2052 - accuracy: 0.9175 - val_loss: 0.9888 - val_accuracy: 0.5584\n",
      "Epoch 62/100\n",
      "14972/14972 - 0s - loss: 0.2008 - accuracy: 0.9178 - val_loss: 0.9804 - val_accuracy: 0.5560\n",
      "Epoch 63/100\n",
      "14972/14972 - 0s - loss: 0.2083 - accuracy: 0.9151 - val_loss: 0.9468 - val_accuracy: 0.5816\n",
      "Epoch 64/100\n",
      "14972/14972 - 0s - loss: 0.2011 - accuracy: 0.9180 - val_loss: 0.9625 - val_accuracy: 0.5672\n",
      "Epoch 65/100\n",
      "14972/14972 - 0s - loss: 0.2019 - accuracy: 0.9180 - val_loss: 0.9375 - val_accuracy: 0.5800\n",
      "Epoch 66/100\n",
      "14972/14972 - 0s - loss: 0.1991 - accuracy: 0.9199 - val_loss: 0.9545 - val_accuracy: 0.5732\n",
      "Epoch 67/100\n",
      "14972/14972 - 0s - loss: 0.1996 - accuracy: 0.9192 - val_loss: 0.9404 - val_accuracy: 0.5824\n",
      "Epoch 68/100\n",
      "14972/14972 - 0s - loss: 0.1938 - accuracy: 0.9251 - val_loss: 1.9210 - val_accuracy: 0.2300\n",
      "Epoch 69/100\n",
      "14972/14972 - 0s - loss: 0.2382 - accuracy: 0.9066 - val_loss: 2.0283 - val_accuracy: 0.2748\n",
      "Epoch 70/100\n",
      "14972/14972 - 0s - loss: 0.2427 - accuracy: 0.9082 - val_loss: 1.5298 - val_accuracy: 0.3200\n",
      "Epoch 71/100\n",
      "14972/14972 - 0s - loss: 0.2287 - accuracy: 0.9098 - val_loss: 1.2218 - val_accuracy: 0.5476\n",
      "Epoch 72/100\n",
      "14972/14972 - 0s - loss: 0.2160 - accuracy: 0.9167 - val_loss: 0.8498 - val_accuracy: 0.6468\n",
      "Epoch 73/100\n",
      "14972/14972 - 0s - loss: 0.1917 - accuracy: 0.9307 - val_loss: 1.3358 - val_accuracy: 0.4160\n",
      "Epoch 74/100\n",
      "14972/14972 - 0s - loss: 0.2194 - accuracy: 0.9109 - val_loss: 1.1535 - val_accuracy: 0.5368\n",
      "Epoch 75/100\n",
      "14972/14972 - 0s - loss: 0.2118 - accuracy: 0.9184 - val_loss: 1.0019 - val_accuracy: 0.6252\n",
      "Epoch 76/100\n",
      "14972/14972 - 0s - loss: 0.2038 - accuracy: 0.9229 - val_loss: 1.0908 - val_accuracy: 0.5188\n",
      "Epoch 77/100\n",
      "14972/14972 - 0s - loss: 0.2044 - accuracy: 0.9245 - val_loss: 1.8960 - val_accuracy: 0.2368\n"
     ]
    },
    {
     "name": "stdout",
     "output_type": "stream",
     "text": [
      "Epoch 78/100\n",
      "14972/14972 - 0s - loss: 0.2406 - accuracy: 0.9007 - val_loss: 0.9148 - val_accuracy: 0.6328\n",
      "Epoch 79/100\n",
      "14972/14972 - 0s - loss: 0.2039 - accuracy: 0.9226 - val_loss: 0.7758 - val_accuracy: 0.6952\n",
      "Epoch 80/100\n",
      "14972/14972 - 0s - loss: 0.1831 - accuracy: 0.9327 - val_loss: 0.8520 - val_accuracy: 0.6576\n",
      "Epoch 81/100\n",
      "14972/14972 - 0s - loss: 0.1904 - accuracy: 0.9267 - val_loss: 0.7881 - val_accuracy: 0.6908\n",
      "Epoch 82/100\n",
      "14972/14972 - 0s - loss: 0.1820 - accuracy: 0.9293 - val_loss: 0.8132 - val_accuracy: 0.6748\n",
      "Epoch 83/100\n",
      "14972/14972 - 0s - loss: 0.1779 - accuracy: 0.9325 - val_loss: 0.8464 - val_accuracy: 0.6588\n",
      "Epoch 84/100\n",
      "14972/14972 - 0s - loss: 0.1871 - accuracy: 0.9275 - val_loss: 0.7957 - val_accuracy: 0.6828\n",
      "Epoch 85/100\n",
      "14972/14972 - 0s - loss: 0.1807 - accuracy: 0.9293 - val_loss: 0.8040 - val_accuracy: 0.6796\n",
      "Epoch 86/100\n",
      "14972/14972 - 0s - loss: 0.1793 - accuracy: 0.9307 - val_loss: 0.8250 - val_accuracy: 0.6660\n",
      "Epoch 87/100\n",
      "14972/14972 - 0s - loss: 0.1791 - accuracy: 0.9292 - val_loss: 0.8175 - val_accuracy: 0.6752\n",
      "Epoch 88/100\n",
      "14972/14972 - 0s - loss: 0.1779 - accuracy: 0.9318 - val_loss: 0.8209 - val_accuracy: 0.6696\n",
      "Epoch 89/100\n",
      "14972/14972 - 0s - loss: 0.1801 - accuracy: 0.9301 - val_loss: 0.8093 - val_accuracy: 0.6776\n",
      "Epoch 90/100\n",
      "14972/14972 - 0s - loss: 0.1741 - accuracy: 0.9363 - val_loss: 0.9699 - val_accuracy: 0.6048\n",
      "Epoch 91/100\n",
      "14972/14972 - 0s - loss: 0.1929 - accuracy: 0.9236 - val_loss: 0.8058 - val_accuracy: 0.6784\n",
      "Epoch 92/100\n",
      "14972/14972 - 0s - loss: 0.1829 - accuracy: 0.9302 - val_loss: 0.8834 - val_accuracy: 0.6560\n",
      "Epoch 93/100\n",
      "14972/14972 - 0s - loss: 0.1832 - accuracy: 0.9309 - val_loss: 0.7875 - val_accuracy: 0.6880\n",
      "Epoch 94/100\n",
      "14972/14972 - 0s - loss: 0.1801 - accuracy: 0.9316 - val_loss: 0.8963 - val_accuracy: 0.6528\n",
      "Epoch 95/100\n",
      "14972/14972 - 0s - loss: 0.1785 - accuracy: 0.9315 - val_loss: 0.7968 - val_accuracy: 0.6888\n",
      "Epoch 96/100\n",
      "14972/14972 - 0s - loss: 0.1765 - accuracy: 0.9325 - val_loss: 0.7714 - val_accuracy: 0.7000\n",
      "Epoch 97/100\n",
      "14972/14972 - 0s - loss: 0.1727 - accuracy: 0.9338 - val_loss: 0.7603 - val_accuracy: 0.7100\n",
      "Epoch 98/100\n",
      "14972/14972 - 0s - loss: 0.1708 - accuracy: 0.9343 - val_loss: 0.7702 - val_accuracy: 0.6996\n",
      "Epoch 99/100\n",
      "14972/14972 - 0s - loss: 0.1718 - accuracy: 0.9339 - val_loss: 0.7653 - val_accuracy: 0.7020\n",
      "Epoch 100/100\n",
      "14972/14972 - 0s - loss: 0.1684 - accuracy: 0.9362 - val_loss: 0.7801 - val_accuracy: 0.6976\n"
     ]
    }
   ],
   "source": [
    "# Train the model\n",
    "history_2 = model_2.fit(x_train, y_train, batch_size=128, epochs=100, verbose=2,shuffle=0, validation_data=(x_test, y_test))"
   ]
  },
  {
   "cell_type": "code",
   "execution_count": 41,
   "metadata": {},
   "outputs": [
    {
     "name": "stdout",
     "output_type": "stream",
     "text": [
      "dict_keys(['loss', 'accuracy', 'val_loss', 'val_accuracy'])\n"
     ]
    },
    {
     "data": {
      "image/png": "[encoded data removed]",
      "text/plain": [
       "<Figure size 720x720 with 1 Axes>"
      ]
     },
     "metadata": {
      "needs_background": "light"
     },
     "output_type": "display_data"
    }
   ],
   "source": [
    "print(history_2.history.keys())\n",
    "plt.plot(history_2.history['loss'])\n",
    "plt.plot(history_2.history['val_loss'])\n",
    "plt.title('Loss Plot')\n",
    "plt.ylabel('Loss')\n",
    "plt.xlabel('Epoch')\n",
    "plt.legend(['Train', 'Validation'])\n",
    "plt.show()"
   ]
  },
  {
   "cell_type": "code",
   "execution_count": 42,
   "metadata": {},
   "outputs": [],
   "source": [
    "# Predicting the Model\n",
    "test_pred = model_2.predict(x_test)\n",
    "train_pred = model_2.predict(x_train)\n",
    "\n",
    "test_pred = np.argmax(test_pred, axis=1)\n",
    "train_pred = np.argmax(train_pred, axis=1)"
   ]
  },
  {
   "cell_type": "code",
   "execution_count": 43,
   "metadata": {},
   "outputs": [
    {
     "name": "stdout",
     "output_type": "stream",
     "text": [
      "Train Data:\n",
      "Confusion matrix Train:\n",
      "-----------------------\n",
      "[[5252 2234]\n",
      " [ 110 7376]]\n",
      "-------------------------------------------------------------------------------------------------------\n",
      "              precision    recall  f1-score   support\n",
      "\n",
      "           0      0.979     0.702     0.818      7486\n",
      "           1      0.768     0.985     0.863      7486\n",
      "\n",
      "    accuracy                          0.843     14972\n",
      "   macro avg      0.874     0.843     0.840     14972\n",
      "weighted avg      0.874     0.843     0.840     14972\n",
      "\n",
      "*******************************************************************************************************\n",
      "Test Data:\n",
      "Confusion matrix Test:\n",
      "----------------------\n",
      "[[1738  756]\n",
      " [   0    6]]\n",
      "-------------------------------------------------------------------------------------------------------\n",
      "              precision    recall  f1-score   support\n",
      "\n",
      "           0      1.000     0.697     0.821      2494\n",
      "           1      0.008     1.000     0.016         6\n",
      "\n",
      "    accuracy                          0.698      2500\n",
      "   macro avg      0.504     0.848     0.418      2500\n",
      "weighted avg      0.998     0.698     0.819      2500\n",
      "\n"
     ]
    }
   ],
   "source": [
    "print(\"Train Data:\")\n",
    "print(\"Confusion matrix Train:\")\n",
    "print(\"-----------------------\")\n",
    "print(metrics.confusion_matrix(y_train,train_pred))\n",
    "print(\"-------------------------------------------------------------------------------------------------------\")\n",
    "print(metrics.classification_report(y_train,train_pred, digits=3))\n",
    "\n",
    "print(\"*******************************************************************************************************\")\n",
    "\n",
    "print(\"Test Data:\")\n",
    "print(\"Confusion matrix Test:\")\n",
    "print(\"----------------------\")\n",
    "print(metrics.confusion_matrix(y_test,test_pred))\n",
    "print(\"-------------------------------------------------------------------------------------------------------\")\n",
    "print(metrics.classification_report(y_test,test_pred, digits=3))"
   ]
  },
  {
   "cell_type": "markdown",
   "metadata": {},
   "source": [
    "# Using AUTO Encoders"
   ]
  },
  {
   "cell_type": "code",
   "execution_count": 59,
   "metadata": {},
   "outputs": [],
   "source": [
    "df = pd.read_csv(\"fraud.csv\")"
   ]
  },
  {
   "cell_type": "code",
   "execution_count": 61,
   "metadata": {},
   "outputs": [
    {
     "name": "stdout",
     "output_type": "stream",
     "text": [
      "0    9980\n",
      "1      20\n",
      "Name: Class, dtype: int64\n"
     ]
    },
    {
     "data": {
      "image/png": "[encoded data removed]",
      "text/plain": [
       "<Figure size 720x720 with 1 Axes>"
      ]
     },
     "metadata": {
      "needs_background": "light"
     },
     "output_type": "display_data"
    }
   ],
   "source": [
    "sns.countplot(df[\"Class\"]); # Target variable distribution\n",
    "print(df.Class.value_counts())"
   ]
  },
  {
   "cell_type": "code",
   "execution_count": 64,
   "metadata": {},
   "outputs": [
    {
     "name": "stdout",
     "output_type": "stream",
     "text": [
      "0    99.8\n",
      "1     0.2\n",
      "Name: Class, dtype: float64\n"
     ]
    }
   ],
   "source": [
    "count_classes = pd.value_counts(df['Class'], sort = True)\n",
    "print((count_classes/df.shape[0])*100)"
   ]
  },
  {
   "cell_type": "code",
   "execution_count": 65,
   "metadata": {},
   "outputs": [],
   "source": [
    "frauds = df[df.Class == 1]\n",
    "normal = df[df.Class == 0]"
   ]
  },
  {
   "cell_type": "code",
   "execution_count": 66,
   "metadata": {},
   "outputs": [
    {
     "data": {
      "image/png": "[encoded data removed]",
      "text/plain": [
       "<Figure size 1008x576 with 2 Axes>"
      ]
     },
     "metadata": {
      "needs_background": "light"
     },
     "output_type": "display_data"
    }
   ],
   "source": [
    "f, (ax1, ax2) = plt.subplots(2, 1, sharex=True, figsize=(14,8))\n",
    "f.suptitle('Amount per transaction by class')\n",
    "\n",
    "bins = 50\n",
    "\n",
    "ax1.hist(frauds.Amount, bins = bins)\n",
    "ax1.set_title('Fraud')\n",
    "\n",
    "ax2.hist(normal.Amount, bins = bins)\n",
    "ax2.set_title('Normal')\n",
    "\n",
    "plt.xlabel('Amount ($)')\n",
    "plt.ylabel('Number of Transactions')\n",
    "plt.xlim((0, 20000))\n",
    "plt.yscale('log')\n",
    "plt.show()"
   ]
  },
  {
   "cell_type": "code",
   "execution_count": 67,
   "metadata": {},
   "outputs": [
    {
     "data": {
      "image/png": "[encoded data removed]",
      "text/plain": [
       "<Figure size 1008x576 with 2 Axes>"
      ]
     },
     "metadata": {
      "needs_background": "light"
     },
     "output_type": "display_data"
    }
   ],
   "source": [
    "f, (ax1, ax2) = plt.subplots(2, 1, sharex=True, figsize=(14,8))\n",
    "f.suptitle('Time of transaction vs Amount by class')\n",
    "\n",
    "ax1.scatter(frauds.id, frauds.Amount)\n",
    "ax1.set_title('Fraud')\n",
    "ax1.set(ylim=(0, 26000))\n",
    "\n",
    "ax2.scatter(normal.id, normal.Amount)\n",
    "ax2.set_title('Normal')\n",
    "ax2.set(ylim=(0, 26000))\n",
    "\n",
    "plt.xlabel('Time (in Seconds)')\n",
    "plt.ylabel('Amount($)')\n",
    "plt.show()"
   ]
  },
  {
   "cell_type": "code",
   "execution_count": 68,
   "metadata": {},
   "outputs": [],
   "source": [
    "data = df.drop(['id'], axis=1)"
   ]
  },
  {
   "cell_type": "code",
   "execution_count": 69,
   "metadata": {},
   "outputs": [],
   "source": [
    "#tf.random.set_seed(143)\n",
    "\n",
    "np.random.seed(143)"
   ]
  },
  {
   "cell_type": "code",
   "execution_count": 70,
   "metadata": {},
   "outputs": [
    {
     "name": "stdout",
     "output_type": "stream",
     "text": [
      "The class distribution of train data is \n",
      "0    99.7875\n",
      "1     0.2125\n",
      "Name: Class, dtype: float64\n",
      "\n",
      "The class distribution of test data is \n",
      "0    99.85\n",
      "1     0.15\n",
      "Name: Class, dtype: float64\n"
     ]
    }
   ],
   "source": [
    "from sklearn.model_selection import train_test_split\n",
    "\n",
    "X_train, X_test = train_test_split(data, test_size = 0.2, random_state = 123)\n",
    "\n",
    "print(f\"The class distribution of train data is \\n{(X_train['Class'].value_counts()/X_train.shape[0])*100}\\n\")\n",
    "print(f\"The class distribution of test data is \\n{(X_test['Class'].value_counts()/X_test.shape[0])*100}\")"
   ]
  },
  {
   "cell_type": "code",
   "execution_count": 71,
   "metadata": {},
   "outputs": [
    {
     "name": "stdout",
     "output_type": "stream",
     "text": [
      "(8000, 9)\n",
      "(2000, 8)\n",
      "(2000,)\n"
     ]
    }
   ],
   "source": [
    "## We are not dropping of target column from train dataset as lI would later need it to filter non fraudalent data\n",
    "\n",
    "y_test = X_test['Class'] \n",
    "X_test = X_test.drop(['Class'], axis=1)\n",
    "\n",
    "print(X_train.shape)\n",
    "print(X_test.shape)\n",
    "print(y_test.shape)"
   ]
  },
  {
   "cell_type": "code",
   "execution_count": 72,
   "metadata": {},
   "outputs": [],
   "source": [
    "from sklearn.preprocessing import StandardScaler\n",
    "\n",
    "scaler = StandardScaler()\n",
    "scaler.fit(X_train['Amount'].values.reshape(-1, 1))\n",
    "\n",
    "X_train['Amount'] = scaler.transform(X_train['Amount'].values.reshape(-1, 1))\n",
    "X_test['Amount'] = scaler.transform(X_test['Amount'].values.reshape(-1, 1))"
   ]
  },
  {
   "cell_type": "code",
   "execution_count": 73,
   "metadata": {},
   "outputs": [
    {
     "name": "stdout",
     "output_type": "stream",
     "text": [
      "      normalized_total_spent_last_24_hours  normalized_merchant_fraud_risk  \\\n",
      "9216                             -0.661081                        1.097871   \n",
      "7324                              2.110176                       -0.148474   \n",
      "918                               0.000708                        0.635513   \n",
      "\n",
      "      normalized_time_since_last_transaction  normalized_average_transaction  \\\n",
      "9216                                0.826405                        0.973737   \n",
      "7324                               -1.377028                        0.264841   \n",
      "918                                 0.798978                        1.738429   \n",
      "\n",
      "      normalized_days_till_expiration  normalized_transaction_time  \\\n",
      "9216                        -0.451982                    -0.702818   \n",
      "7324                         0.094461                    -0.844695   \n",
      "918                          0.777001                     2.050335   \n",
      "\n",
      "      normalized_change_in_merchant_sales    Amount  Class  \n",
      "9216                             0.696255  0.000317      0  \n",
      "7324                             0.095133 -0.383349      0  \n",
      "918                              0.141081 -0.152534      0  \n",
      "\n",
      "----------------------------------------------------------------------------------\n",
      "      normalized_total_spent_last_24_hours  normalized_merchant_fraud_risk  \\\n",
      "2656                             -1.201388                        0.822685   \n",
      "445                               1.080407                       -1.494388   \n",
      "9505                              0.970576                       -0.058885   \n",
      "\n",
      "      normalized_time_since_last_transaction  normalized_average_transaction  \\\n",
      "2656                                2.702000                        2.851870   \n",
      "445                                 1.399648                       -0.129493   \n",
      "9505                               -0.198190                        1.100917   \n",
      "\n",
      "      normalized_days_till_expiration  normalized_transaction_time  \\\n",
      "2656                         0.943650                     0.323495   \n",
      "445                         -1.969651                     0.748620   \n",
      "9505                         0.307753                     0.089466   \n",
      "\n",
      "      normalized_change_in_merchant_sales    Amount  \n",
      "2656                             0.148588 -0.372960  \n",
      "445                             -1.522639  0.049275  \n",
      "9505                             0.412613  0.309695  \n"
     ]
    }
   ],
   "source": [
    "print(X_train.head(3))\n",
    "print('\\n----------------------------------------------------------------------------------')\n",
    "print(X_test.head(3))"
   ]
  },
  {
   "cell_type": "code",
   "execution_count": 74,
   "metadata": {},
   "outputs": [
    {
     "name": "stdout",
     "output_type": "stream",
     "text": [
      "(7983, 8)\n",
      "(2000, 8)\n",
      "(2000,)\n"
     ]
    }
   ],
   "source": [
    "X_train_NF = X_train[X_train['Class'] == 0] # non-fraud\n",
    "X_train_NF = X_train_NF.drop(['Class'], axis=1)\n",
    "\n",
    "X_train_NF = X_train_NF.values\n",
    "\n",
    "print(X_train_NF.shape)\n",
    "print(X_test.shape)\n",
    "print(y_test.shape)"
   ]
  },
  {
   "cell_type": "code",
   "execution_count": 75,
   "metadata": {},
   "outputs": [],
   "source": [
    "import tensorflow as tf\n",
    "import tensorflow.keras.backend as K\n",
    "\n",
    "from tensorflow.keras.models import Sequential, Model\n",
    "from tensorflow.keras.layers import Dense, Dropout, Activation, Input\n",
    "from tensorflow.keras.optimizers import Adam\n",
    "\n",
    "import numpy as np\n",
    "import pandas as pd\n",
    "\n",
    "import seaborn as sns\n",
    "import matplotlib.pyplot as plt"
   ]
  },
  {
   "cell_type": "code",
   "execution_count": 76,
   "metadata": {},
   "outputs": [],
   "source": [
    "input_dim = X_train_NF.shape[1]\n",
    "\n",
    "encoding_dim = 14"
   ]
  },
  {
   "cell_type": "code",
   "execution_count": 77,
   "metadata": {},
   "outputs": [],
   "source": [
    "from tensorflow.keras.regularizers import l1\n",
    "\n",
    "input_layer = Input(shape=(input_dim, ))\n",
    "\n",
    "encoder = Dense(encoding_dim, activation=\"relu\",)(input_layer) #activity_regularizer=l1(10e-5)\n",
    "encoder = Dropout(0.1)(encoder)\n",
    "\n",
    "encoder = Dense(int(encoding_dim / 2), activation=\"relu\")(encoder)\n",
    "\n",
    "decoder = Dense(encoding_dim, activation='relu')(encoder)\n",
    "decoder = Dropout(0.1)(decoder)\n",
    "\n",
    "decoder = Dense(input_dim, activation='linear')(decoder)\n",
    "\n",
    "autoencoder = Model(inputs=input_layer, outputs=decoder)"
   ]
  },
  {
   "cell_type": "code",
   "execution_count": 78,
   "metadata": {
    "scrolled": true
   },
   "outputs": [
    {
     "name": "stdout",
     "output_type": "stream",
     "text": [
      "Train on 5588 samples, validate on 2395 samples\n",
      "Epoch 1/100\n",
      "5588/5588 [==============================] - 0s 87us/sample - loss: 1.7609 - accuracy: 0.2419 - val_loss: 1.8735 - val_accuracy: 0.3432\n",
      "Epoch 2/100\n",
      "5588/5588 [==============================] - 0s 19us/sample - loss: 1.6150 - accuracy: 0.3380 - val_loss: 1.7215 - val_accuracy: 0.4150\n",
      "Epoch 3/100\n",
      "5588/5588 [==============================] - 0s 15us/sample - loss: 1.5007 - accuracy: 0.3869 - val_loss: 1.5602 - val_accuracy: 0.4722\n",
      "Epoch 4/100\n",
      "5588/5588 [==============================] - 0s 17us/sample - loss: 1.3754 - accuracy: 0.4304 - val_loss: 1.3804 - val_accuracy: 0.5161\n",
      "Epoch 5/100\n",
      "5588/5588 [==============================] - 0s 15us/sample - loss: 1.2283 - accuracy: 0.4782 - val_loss: 1.1633 - val_accuracy: 0.5641\n",
      "Epoch 6/100\n",
      "5588/5588 [==============================] - 0s 17us/sample - loss: 1.1154 - accuracy: 0.5249 - val_loss: 0.9910 - val_accuracy: 0.6271\n",
      "Epoch 7/100\n",
      "5588/5588 [==============================] - 0s 15us/sample - loss: 1.0301 - accuracy: 0.5823 - val_loss: 0.8590 - val_accuracy: 0.6484\n",
      "Epoch 8/100\n",
      "5588/5588 [==============================] - 0s 14us/sample - loss: 0.9354 - accuracy: 0.5918 - val_loss: 0.7807 - val_accuracy: 0.6731\n",
      "Epoch 9/100\n",
      "5588/5588 [==============================] - 0s 15us/sample - loss: 0.8529 - accuracy: 0.6204 - val_loss: 0.7041 - val_accuracy: 0.6914\n",
      "Epoch 10/100\n",
      "5588/5588 [==============================] - 0s 14us/sample - loss: 0.8142 - accuracy: 0.6339 - val_loss: 0.6435 - val_accuracy: 0.7144\n",
      "Epoch 11/100\n",
      "5588/5588 [==============================] - 0s 16us/sample - loss: 0.7589 - accuracy: 0.6478 - val_loss: 0.5874 - val_accuracy: 0.7370\n",
      "Epoch 12/100\n",
      "5588/5588 [==============================] - 0s 17us/sample - loss: 0.7123 - accuracy: 0.6562 - val_loss: 0.5430 - val_accuracy: 0.7399\n",
      "Epoch 13/100\n",
      "5588/5588 [==============================] - 0s 19us/sample - loss: 0.7357 - accuracy: 0.6627 - val_loss: 0.5011 - val_accuracy: 0.7478\n",
      "Epoch 14/100\n",
      "5588/5588 [==============================] - 0s 15us/sample - loss: 0.6592 - accuracy: 0.6729 - val_loss: 0.4677 - val_accuracy: 0.7537\n",
      "Epoch 15/100\n",
      "5588/5588 [==============================] - 0s 15us/sample - loss: 0.6669 - accuracy: 0.6763 - val_loss: 0.4382 - val_accuracy: 0.7591\n",
      "Epoch 16/100\n",
      "5588/5588 [==============================] - 0s 14us/sample - loss: 0.6194 - accuracy: 0.6858 - val_loss: 0.4218 - val_accuracy: 0.7720\n",
      "Epoch 17/100\n",
      "5588/5588 [==============================] - 0s 14us/sample - loss: 0.6247 - accuracy: 0.7033 - val_loss: 0.3994 - val_accuracy: 0.7787\n",
      "Epoch 18/100\n",
      "5588/5588 [==============================] - 0s 13us/sample - loss: 0.6031 - accuracy: 0.7044 - val_loss: 0.3808 - val_accuracy: 0.7929\n",
      "Epoch 19/100\n",
      "5588/5588 [==============================] - 0s 15us/sample - loss: 0.5805 - accuracy: 0.7045 - val_loss: 0.3652 - val_accuracy: 0.7916\n",
      "Epoch 20/100\n",
      "5588/5588 [==============================] - ETA: 0s - loss: 0.5954 - accuracy: 0.71 - 0s 15us/sample - loss: 0.5794 - accuracy: 0.7117 - val_loss: 0.3505 - val_accuracy: 0.7958\n",
      "Epoch 21/100\n",
      "5588/5588 [==============================] - 0s 14us/sample - loss: 0.5633 - accuracy: 0.7099 - val_loss: 0.3338 - val_accuracy: 0.7979\n",
      "Epoch 22/100\n",
      "5588/5588 [==============================] - 0s 14us/sample - loss: 0.5340 - accuracy: 0.7133 - val_loss: 0.3202 - val_accuracy: 0.8021\n",
      "Epoch 23/100\n",
      "5588/5588 [==============================] - 0s 16us/sample - loss: 0.5573 - accuracy: 0.7158 - val_loss: 0.3095 - val_accuracy: 0.8033\n",
      "Epoch 24/100\n",
      "5588/5588 [==============================] - 0s 15us/sample - loss: 0.5175 - accuracy: 0.7205 - val_loss: 0.2981 - val_accuracy: 0.8134\n",
      "Epoch 25/100\n",
      "5588/5588 [==============================] - 0s 15us/sample - loss: 0.5164 - accuracy: 0.7160 - val_loss: 0.2879 - val_accuracy: 0.8088\n",
      "Epoch 26/100\n",
      "5588/5588 [==============================] - 0s 14us/sample - loss: 0.5044 - accuracy: 0.7289 - val_loss: 0.2771 - val_accuracy: 0.8159\n",
      "Epoch 27/100\n",
      "5588/5588 [==============================] - 0s 15us/sample - loss: 0.5033 - accuracy: 0.7267 - val_loss: 0.2690 - val_accuracy: 0.8217\n",
      "Epoch 28/100\n",
      "5588/5588 [==============================] - 0s 14us/sample - loss: 0.4874 - accuracy: 0.7292 - val_loss: 0.2606 - val_accuracy: 0.8221\n",
      "Epoch 29/100\n",
      "5588/5588 [==============================] - 0s 15us/sample - loss: 0.5000 - accuracy: 0.7285 - val_loss: 0.2560 - val_accuracy: 0.8259\n",
      "Epoch 30/100\n",
      "5588/5588 [==============================] - 0s 15us/sample - loss: 0.4825 - accuracy: 0.7391 - val_loss: 0.2414 - val_accuracy: 0.8288\n",
      "Epoch 31/100\n",
      "5588/5588 [==============================] - 0s 14us/sample - loss: 0.4650 - accuracy: 0.7459 - val_loss: 0.2369 - val_accuracy: 0.8380\n",
      "Epoch 32/100\n",
      "5588/5588 [==============================] - 0s 16us/sample - loss: 0.4894 - accuracy: 0.7453 - val_loss: 0.2307 - val_accuracy: 0.8459\n",
      "Epoch 33/100\n",
      "5588/5588 [==============================] - 0s 15us/sample - loss: 0.4466 - accuracy: 0.7500 - val_loss: 0.2241 - val_accuracy: 0.8463\n",
      "Epoch 34/100\n",
      "5588/5588 [==============================] - 0s 14us/sample - loss: 0.4556 - accuracy: 0.7487 - val_loss: 0.2154 - val_accuracy: 0.8551\n",
      "Epoch 35/100\n",
      "5588/5588 [==============================] - 0s 15us/sample - loss: 0.4407 - accuracy: 0.7520 - val_loss: 0.2065 - val_accuracy: 0.8589\n",
      "Epoch 36/100\n",
      "5588/5588 [==============================] - 0s 15us/sample - loss: 0.4382 - accuracy: 0.7536 - val_loss: 0.2064 - val_accuracy: 0.8576\n",
      "Epoch 37/100\n",
      "5588/5588 [==============================] - 0s 15us/sample - loss: 0.4333 - accuracy: 0.7598 - val_loss: 0.2020 - val_accuracy: 0.8568\n",
      "Epoch 38/100\n",
      "5588/5588 [==============================] - 0s 15us/sample - loss: 0.4161 - accuracy: 0.7579 - val_loss: 0.1945 - val_accuracy: 0.8597\n",
      "Epoch 39/100\n",
      "5588/5588 [==============================] - 0s 14us/sample - loss: 0.4291 - accuracy: 0.7573 - val_loss: 0.1869 - val_accuracy: 0.8626\n",
      "Epoch 40/100\n",
      "5588/5588 [==============================] - 0s 15us/sample - loss: 0.4493 - accuracy: 0.7598 - val_loss: 0.1915 - val_accuracy: 0.8610\n",
      "Epoch 41/100\n",
      "5588/5588 [==============================] - 0s 16us/sample - loss: 0.4194 - accuracy: 0.7595 - val_loss: 0.1904 - val_accuracy: 0.8639\n",
      "Epoch 42/100\n",
      "5588/5588 [==============================] - 0s 16us/sample - loss: 0.4303 - accuracy: 0.7636 - val_loss: 0.1922 - val_accuracy: 0.8559\n",
      "Epoch 43/100\n",
      "5588/5588 [==============================] - 0s 13us/sample - loss: 0.4052 - accuracy: 0.7702 - val_loss: 0.1897 - val_accuracy: 0.8597\n",
      "Epoch 44/100\n",
      "5588/5588 [==============================] - 0s 14us/sample - loss: 0.4083 - accuracy: 0.7743 - val_loss: 0.1889 - val_accuracy: 0.8605\n",
      "Epoch 45/100\n",
      "5588/5588 [==============================] - 0s 15us/sample - loss: 0.4197 - accuracy: 0.7581 - val_loss: 0.1833 - val_accuracy: 0.8597\n",
      "Epoch 46/100\n",
      "5588/5588 [==============================] - 0s 15us/sample - loss: 0.3963 - accuracy: 0.7611 - val_loss: 0.1889 - val_accuracy: 0.8564\n",
      "Epoch 47/100\n",
      "5588/5588 [==============================] - 0s 16us/sample - loss: 0.4227 - accuracy: 0.7634 - val_loss: 0.1812 - val_accuracy: 0.8643\n",
      "Epoch 48/100\n",
      "5588/5588 [==============================] - 0s 15us/sample - loss: 0.4271 - accuracy: 0.7695 - val_loss: 0.1732 - val_accuracy: 0.8622\n",
      "Epoch 49/100\n",
      "5588/5588 [==============================] - 0s 15us/sample - loss: 0.3906 - accuracy: 0.7622 - val_loss: 0.1860 - val_accuracy: 0.8614\n",
      "Epoch 50/100\n",
      "5588/5588 [==============================] - 0s 14us/sample - loss: 0.4196 - accuracy: 0.7634 - val_loss: 0.1777 - val_accuracy: 0.8626\n",
      "Epoch 51/100\n",
      "5588/5588 [==============================] - 0s 15us/sample - loss: 0.3964 - accuracy: 0.7627 - val_loss: 0.1811 - val_accuracy: 0.8597\n",
      "Epoch 52/100\n",
      "5588/5588 [==============================] - 0s 15us/sample - loss: 0.4076 - accuracy: 0.7734 - val_loss: 0.1699 - val_accuracy: 0.8668\n",
      "Epoch 53/100\n",
      "5588/5588 [==============================] - 0s 14us/sample - loss: 0.4305 - accuracy: 0.7586 - val_loss: 0.1784 - val_accuracy: 0.8635\n",
      "Epoch 54/100\n",
      "5588/5588 [==============================] - 0s 15us/sample - loss: 0.3912 - accuracy: 0.7736 - val_loss: 0.1757 - val_accuracy: 0.8639\n",
      "Epoch 55/100\n",
      "5588/5588 [==============================] - 0s 14us/sample - loss: 0.3672 - accuracy: 0.7717 - val_loss: 0.1759 - val_accuracy: 0.8647\n",
      "Epoch 56/100\n",
      "5588/5588 [==============================] - 0s 17us/sample - loss: 0.4044 - accuracy: 0.7691 - val_loss: 0.1717 - val_accuracy: 0.8622\n",
      "Epoch 57/100\n",
      "5588/5588 [==============================] - 0s 15us/sample - loss: 0.3969 - accuracy: 0.7699 - val_loss: 0.1763 - val_accuracy: 0.8681\n",
      "Epoch 58/100\n",
      "5588/5588 [==============================] - 0s 14us/sample - loss: 0.4156 - accuracy: 0.7623 - val_loss: 0.1706 - val_accuracy: 0.8676\n",
      "Epoch 59/100\n",
      "5588/5588 [==============================] - ETA: 0s - loss: 0.3769 - accuracy: 0.76 - 0s 15us/sample - loss: 0.3759 - accuracy: 0.7686 - val_loss: 0.1752 - val_accuracy: 0.8593\n",
      "Epoch 60/100\n",
      "5588/5588 [==============================] - 0s 13us/sample - loss: 0.3942 - accuracy: 0.7666 - val_loss: 0.1719 - val_accuracy: 0.8656\n",
      "Epoch 61/100\n",
      "5588/5588 [==============================] - 0s 13us/sample - loss: 0.4027 - accuracy: 0.7690 - val_loss: 0.1773 - val_accuracy: 0.8656\n",
      "Epoch 62/100\n",
      "5588/5588 [==============================] - 0s 12us/sample - loss: 0.3907 - accuracy: 0.7670 - val_loss: 0.1737 - val_accuracy: 0.8727\n",
      "Epoch 63/100\n",
      "5588/5588 [==============================] - 0s 13us/sample - loss: 0.3770 - accuracy: 0.7607 - val_loss: 0.1822 - val_accuracy: 0.8685\n",
      "Epoch 64/100\n",
      "5588/5588 [==============================] - 0s 14us/sample - loss: 0.3542 - accuracy: 0.7733 - val_loss: 0.1726 - val_accuracy: 0.8714\n",
      "Epoch 65/100\n",
      "5588/5588 [==============================] - 0s 15us/sample - loss: 0.4170 - accuracy: 0.7768 - val_loss: 0.1670 - val_accuracy: 0.8772\n",
      "Epoch 66/100\n",
      "5588/5588 [==============================] - 0s 17us/sample - loss: 0.3753 - accuracy: 0.7720 - val_loss: 0.1696 - val_accuracy: 0.8647\n",
      "Epoch 67/100\n",
      "5588/5588 [==============================] - 0s 16us/sample - loss: 0.4140 - accuracy: 0.7606 - val_loss: 0.1699 - val_accuracy: 0.8701\n",
      "Epoch 68/100\n",
      "5588/5588 [==============================] - 0s 22us/sample - loss: 0.3733 - accuracy: 0.7759 - val_loss: 0.1736 - val_accuracy: 0.8727\n",
      "Epoch 69/100\n",
      "5588/5588 [==============================] - 0s 14us/sample - loss: 0.3926 - accuracy: 0.7731 - val_loss: 0.1695 - val_accuracy: 0.8760\n",
      "Epoch 70/100\n",
      "5588/5588 [==============================] - 0s 14us/sample - loss: 0.3929 - accuracy: 0.7657 - val_loss: 0.1713 - val_accuracy: 0.8752\n",
      "Epoch 71/100\n",
      "5588/5588 [==============================] - 0s 16us/sample - loss: 0.3825 - accuracy: 0.7693 - val_loss: 0.1680 - val_accuracy: 0.8714\n",
      "Epoch 72/100\n",
      "5588/5588 [==============================] - 0s 15us/sample - loss: 0.3795 - accuracy: 0.7699 - val_loss: 0.1712 - val_accuracy: 0.8752\n",
      "Epoch 73/100\n",
      "5588/5588 [==============================] - 0s 17us/sample - loss: 0.3625 - accuracy: 0.7688 - val_loss: 0.1665 - val_accuracy: 0.8764\n",
      "Epoch 74/100\n",
      "5588/5588 [==============================] - ETA: 0s - loss: 0.3578 - accuracy: 0.76 - 0s 14us/sample - loss: 0.3649 - accuracy: 0.7720 - val_loss: 0.1707 - val_accuracy: 0.8743\n",
      "Epoch 75/100\n",
      "5588/5588 [==============================] - 0s 13us/sample - loss: 0.3946 - accuracy: 0.7738 - val_loss: 0.1686 - val_accuracy: 0.8718\n",
      "Epoch 76/100\n",
      "5588/5588 [==============================] - 0s 16us/sample - loss: 0.3683 - accuracy: 0.7763 - val_loss: 0.1632 - val_accuracy: 0.8735\n",
      "Epoch 77/100\n",
      "5588/5588 [==============================] - 0s 16us/sample - loss: 0.3749 - accuracy: 0.7774 - val_loss: 0.1709 - val_accuracy: 0.8781\n",
      "Epoch 78/100\n",
      "5588/5588 [==============================] - 0s 12us/sample - loss: 0.3806 - accuracy: 0.7715 - val_loss: 0.1626 - val_accuracy: 0.8777\n",
      "Epoch 79/100\n",
      "5588/5588 [==============================] - 0s 12us/sample - loss: 0.3790 - accuracy: 0.7652 - val_loss: 0.1542 - val_accuracy: 0.8814\n",
      "Epoch 80/100\n",
      "5588/5588 [==============================] - 0s 12us/sample - loss: 0.3722 - accuracy: 0.7831 - val_loss: 0.1586 - val_accuracy: 0.8835\n",
      "Epoch 81/100\n",
      "5588/5588 [==============================] - 0s 13us/sample - loss: 0.3863 - accuracy: 0.7797 - val_loss: 0.1674 - val_accuracy: 0.8781\n",
      "Epoch 82/100\n",
      "5588/5588 [==============================] - 0s 16us/sample - loss: 0.3793 - accuracy: 0.7725 - val_loss: 0.1721 - val_accuracy: 0.8768\n",
      "Epoch 83/100\n",
      "5588/5588 [==============================] - 0s 18us/sample - loss: 0.3711 - accuracy: 0.7749 - val_loss: 0.1620 - val_accuracy: 0.8814\n",
      "Epoch 84/100\n",
      "5588/5588 [==============================] - 0s 15us/sample - loss: 0.3794 - accuracy: 0.7686 - val_loss: 0.1608 - val_accuracy: 0.8793\n",
      "Epoch 85/100\n",
      "5588/5588 [==============================] - 0s 13us/sample - loss: 0.4187 - accuracy: 0.7804 - val_loss: 0.1602 - val_accuracy: 0.8852\n",
      "Epoch 86/100\n",
      "5588/5588 [==============================] - 0s 12us/sample - loss: 0.3616 - accuracy: 0.7819 - val_loss: 0.1722 - val_accuracy: 0.8806\n",
      "Epoch 87/100\n",
      "5588/5588 [==============================] - 0s 13us/sample - loss: 0.3555 - accuracy: 0.7731 - val_loss: 0.1696 - val_accuracy: 0.8814\n",
      "Epoch 88/100\n",
      "5588/5588 [==============================] - 0s 13us/sample - loss: 0.3530 - accuracy: 0.7743 - val_loss: 0.1630 - val_accuracy: 0.8818\n",
      "Epoch 89/100\n",
      "5588/5588 [==============================] - 0s 15us/sample - loss: 0.3686 - accuracy: 0.7833 - val_loss: 0.1592 - val_accuracy: 0.8810\n",
      "Epoch 90/100\n",
      "5588/5588 [==============================] - 0s 13us/sample - loss: 0.3854 - accuracy: 0.7702 - val_loss: 0.1585 - val_accuracy: 0.8781\n",
      "Epoch 91/100\n",
      "5588/5588 [==============================] - 0s 13us/sample - loss: 0.3777 - accuracy: 0.7722 - val_loss: 0.1579 - val_accuracy: 0.8852\n",
      "Epoch 92/100\n",
      "5588/5588 [==============================] - 0s 12us/sample - loss: 0.3781 - accuracy: 0.7776 - val_loss: 0.1596 - val_accuracy: 0.8839\n",
      "Epoch 93/100\n",
      "5588/5588 [==============================] - 0s 13us/sample - loss: 0.3679 - accuracy: 0.7715 - val_loss: 0.1712 - val_accuracy: 0.8823\n",
      "Epoch 94/100\n",
      "5588/5588 [==============================] - 0s 13us/sample - loss: 0.3668 - accuracy: 0.7711 - val_loss: 0.1651 - val_accuracy: 0.8806\n",
      "Epoch 95/100\n",
      "5588/5588 [==============================] - 0s 13us/sample - loss: 0.3589 - accuracy: 0.7797 - val_loss: 0.1617 - val_accuracy: 0.8848\n",
      "Epoch 96/100\n",
      "5588/5588 [==============================] - 0s 14us/sample - loss: 0.3559 - accuracy: 0.7740 - val_loss: 0.1531 - val_accuracy: 0.8889\n",
      "Epoch 97/100\n",
      "5588/5588 [==============================] - 0s 13us/sample - loss: 0.3694 - accuracy: 0.7806 - val_loss: 0.1599 - val_accuracy: 0.8802\n",
      "Epoch 98/100\n",
      "5588/5588 [==============================] - 0s 13us/sample - loss: 0.3532 - accuracy: 0.7792 - val_loss: 0.1587 - val_accuracy: 0.8873\n",
      "Epoch 99/100\n",
      "5588/5588 [==============================] - 0s 15us/sample - loss: 0.3553 - accuracy: 0.7706 - val_loss: 0.1635 - val_accuracy: 0.8873\n",
      "Epoch 100/100\n",
      "5588/5588 [==============================] - 0s 16us/sample - loss: 0.3697 - accuracy: 0.7763 - val_loss: 0.1656 - val_accuracy: 0.8797\n"
     ]
    }
   ],
   "source": [
    "autoencoder.compile(optimizer = 'adam', \n",
    "                    loss = 'mean_squared_error', \n",
    "                    metrics = ['accuracy'])\n",
    "\n",
    "hist = autoencoder.fit(X_train_NF, \n",
    "                       X_train_NF, \n",
    "                       epochs = 100, \n",
    "                       batch_size = 128, \n",
    "                       shuffle = True, \n",
    "                       validation_split = 0.3, \n",
    "                       verbose = 1)"
   ]
  },
  {
   "cell_type": "code",
   "execution_count": 79,
   "metadata": {},
   "outputs": [
    {
     "data": {
      "image/png": "[encoded data removed]",
      "text/plain": [
       "<Figure size 720x720 with 1 Axes>"
      ]
     },
     "metadata": {
      "needs_background": "light"
     },
     "output_type": "display_data"
    }
   ],
   "source": [
    "plt.plot(hist.history['loss'])\n",
    "plt.plot(hist.history['val_loss'])\n",
    "\n",
    "plt.title('model loss')\n",
    "plt.ylabel('loss')\n",
    "plt.xlabel('epoch')\n",
    "plt.legend(['train', 'validation'], loc='upper right');"
   ]
  },
  {
   "cell_type": "code",
   "execution_count": 80,
   "metadata": {},
   "outputs": [],
   "source": [
    "test_pred = autoencoder.predict(X_test.values) #Obtaining predictions for non fraud records"
   ]
  },
  {
   "cell_type": "code",
   "execution_count": 81,
   "metadata": {},
   "outputs": [
    {
     "data": {
      "text/plain": [
       "2656    0.226726\n",
       "445     0.107100\n",
       "9505    0.038605\n",
       "332     0.126588\n",
       "4168    0.041673\n",
       "dtype: float64"
      ]
     },
     "execution_count": 81,
     "metadata": {},
     "output_type": "execute_result"
    }
   ],
   "source": [
    "test_errors = np.mean(np.square(np.abs(X_test - test_pred)), axis = 1)  #Computing reconstruction error on non-fraud data\n",
    "\n",
    "test_errors[0:5]  "
   ]
  },
  {
   "cell_type": "code",
   "execution_count": 82,
   "metadata": {},
   "outputs": [],
   "source": [
    "mse = np.mean(np.power(X_test - test_pred, 2), axis=1)\n",
    "error_df = pd.DataFrame({'reconstruction_error': mse,\n",
    "                        'true_class': y_test})"
   ]
  },
  {
   "cell_type": "code",
   "execution_count": 83,
   "metadata": {},
   "outputs": [
    {
     "name": "stdout",
     "output_type": "stream",
     "text": [
      "The test errors shape is (2000,)\n",
      "------------------------\n",
      "The test errors are 2656    0.226726\n",
      "445     0.107100\n",
      "9505    0.038605\n",
      "332     0.126588\n",
      "4168    0.041673\n",
      "          ...   \n",
      "8018    0.083845\n",
      "6463    0.267400\n",
      "2883    0.007793\n",
      "7895    0.041727\n",
      "620     0.037616\n",
      "Length: 2000, dtype: float64\n",
      "------------------------\n",
      "\n",
      "The mean train recon value is 0.1409825708664655\n"
     ]
    }
   ],
   "source": [
    "#Experimentation to fix a threshold for classification of a transaction into fraud or non-fraud\n",
    "\n",
    "print(f\"The test errors shape is {test_errors.shape}\\n------------------------\")\n",
    "print(f\"The test errors are {test_errors}\\n------------------------\")\n",
    "\n",
    "train_pred = autoencoder.predict(X_train_NF)\n",
    "mean_train_error = np.mean(np.square(np.abs(train_pred - X_train_NF)), axis=1).mean()\n",
    "\n",
    "print(f\"\\nThe mean train recon value is {mean_train_error}\")\n"
   ]
  },
  {
   "cell_type": "code",
   "execution_count": 84,
   "metadata": {},
   "outputs": [],
   "source": [
    "from sklearn.metrics import f1_score,confusion_matrix, classification_report\n",
    "\n",
    "scores_f1 = []\n",
    "thres = []\n",
    "\n",
    "th = 0\n",
    "for i in range(200):\n",
    "    th+=0.1\n",
    "    fraud = list((test_errors > mean_train_error+th))\n",
    "    scores_f1.append(f1_score(y_test,fraud))\n",
    "    thres.append(th+mean_train_error)"
   ]
  },
  {
   "cell_type": "code",
   "execution_count": 85,
   "metadata": {},
   "outputs": [
    {
     "name": "stdout",
     "output_type": "stream",
     "text": [
      "<class 'pandas.core.series.Series'>\n",
      "(2000,)\n",
      "(2000,)\n",
      "<class 'pandas.core.series.Series'>\n",
      "<class 'list'>\n"
     ]
    }
   ],
   "source": [
    "print(type(test_errors))\n",
    "print(test_errors.shape)\n",
    "print(y_test.shape)\n",
    "print(type(y_test))\n",
    "print(type(fraud))"
   ]
  },
  {
   "cell_type": "code",
   "execution_count": 86,
   "metadata": {},
   "outputs": [
    {
     "data": {
      "text/plain": [
       "array([False,  True])"
      ]
     },
     "execution_count": 86,
     "metadata": {},
     "output_type": "execute_result"
    }
   ],
   "source": [
    "np.unique(fraud)"
   ]
  },
  {
   "cell_type": "code",
   "execution_count": 87,
   "metadata": {},
   "outputs": [
    {
     "data": {
      "text/plain": [
       "[<matplotlib.lines.Line2D at 0x199b0674208>]"
      ]
     },
     "execution_count": 87,
     "metadata": {},
     "output_type": "execute_result"
    },
    {
     "data": {
      "image/png": "[encoded data removed]",
      "text/plain": [
       "<Figure size 720x720 with 1 Axes>"
      ]
     },
     "metadata": {
      "needs_background": "light"
     },
     "output_type": "display_data"
    }
   ],
   "source": [
    "plt.plot(thres, scores_f1)"
   ]
  },
  {
   "cell_type": "code",
   "execution_count": 88,
   "metadata": {},
   "outputs": [
    {
     "name": "stdout",
     "output_type": "stream",
     "text": [
      "5.4409825708664625\n",
      "[[1995    2]\n",
      " [   1    2]]\n",
      "              precision    recall  f1-score   support\n",
      "\n",
      "           0       1.00      1.00      1.00      1997\n",
      "           1       0.50      0.67      0.57         3\n",
      "\n",
      "    accuracy                           1.00      2000\n",
      "   macro avg       0.75      0.83      0.79      2000\n",
      "weighted avg       1.00      1.00      1.00      2000\n",
      "\n"
     ]
    }
   ],
   "source": [
    "print(thres[np.array(scores_f1).argmax()])\n",
    "\n",
    "fraud1 = (test_errors > thres[np.array(scores_f1).argmax()])\n",
    "\n",
    "print(confusion_matrix(y_test, fraud1))\n",
    "\n",
    "print(classification_report(y_test, fraud1))"
   ]
  },
  {
   "cell_type": "code",
   "execution_count": 89,
   "metadata": {},
   "outputs": [
    {
     "name": "stdout",
     "output_type": "stream",
     "text": [
      "5.4409825708664625\n"
     ]
    }
   ],
   "source": [
    "threshold = thres[np.array(scores_f1).argmax()]\n",
    "print(threshold)"
   ]
  },
  {
   "cell_type": "code",
   "execution_count": 90,
   "metadata": {},
   "outputs": [
    {
     "data": {
      "image/png": "[encoded data removed]",
      "text/plain": [
       "<Figure size 1008x576 with 1 Axes>"
      ]
     },
     "metadata": {
      "needs_background": "light"
     },
     "output_type": "display_data"
    }
   ],
   "source": [
    "groups = error_df.groupby('true_class')\n",
    "fig, ax = plt.subplots(nrows=1, ncols=1, figsize=(14,8))\n",
    "\n",
    "for name, group in groups:\n",
    "    ax.plot(tuple(group.index), tuple(group.reconstruction_error), marker='o', ms=3.5, linestyle='',\n",
    "           label= \"Fraud\" if name == 1 else \"Normal\")#\n",
    "ax.hlines(threshold, ax.get_xlim()[0], ax.get_xlim()[1], colors=\"r\", zorder=100, label='Threshold')\n",
    "ax.legend()\n",
    "plt.title(\"Reconstruction error for different classes\")\n",
    "plt.ylabel(\"Reconstruction error\")\n",
    "plt.xlabel(\"Data point index\")\n",
    "plt.show();"
   ]
  },
  {
   "cell_type": "code",
   "execution_count": 92,
   "metadata": {},
   "outputs": [],
   "source": [
    "LABELS = [\"Normal\", \"Fraud\"]"
   ]
  },
  {
   "cell_type": "code",
   "execution_count": 93,
   "metadata": {},
   "outputs": [
    {
     "data": {
      "image/png": "[encoded data removed]",
      "text/plain": [
       "<Figure size 576x576 with 2 Axes>"
      ]
     },
     "metadata": {
      "needs_background": "light"
     },
     "output_type": "display_data"
    }
   ],
   "source": [
    "y_pred = [1 if e > threshold else 0 for e in error_df.reconstruction_error.values]\n",
    "\n",
    "conf_matrix = confusion_matrix(error_df.true_class, y_pred)\n",
    "\n",
    "plt.figure(figsize=(8, 8))\n",
    "sns.heatmap(conf_matrix, xticklabels=LABELS, yticklabels=LABELS, annot=True, fmt=\"d\");\n",
    "plt.title(\"Confusion matrix\")\n",
    "plt.ylabel('True class')\n",
    "plt.xlabel('Predicted class')\n",
    "plt.show()"
   ]
  },
  {
   "cell_type": "code",
   "execution_count": null,
   "metadata": {},
   "outputs": [],
   "source": []
  },
  {
   "cell_type": "code",
   "execution_count": null,
   "metadata": {},
   "outputs": [],
   "source": []
  },
  {
   "cell_type": "code",
   "execution_count": null,
   "metadata": {},
   "outputs": [],
   "source": []
  }
 ],
 "metadata": {
  "kernelspec": {
   "display_name": "Python 3",
   "language": "python",
   "name": "python3"
  },
  "language_info": {
   "codemirror_mode": {
    "name": "ipython",
    "version": 3
   },
   "file_extension": ".py",
   "mimetype": "text/x-python",
   "name": "python",
   "nbconvert_exporter": "python",
   "pygments_lexer": "ipython3",
   "version": "3.7.4"
  }
 },
 "nbformat": 4,
 "nbformat_minor": 2
}
